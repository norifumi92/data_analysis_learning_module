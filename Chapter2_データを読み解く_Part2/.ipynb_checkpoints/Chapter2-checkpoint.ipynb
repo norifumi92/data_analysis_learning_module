{
 "cells": [
  {
   "cell_type": "markdown",
   "metadata": {},
   "source": [
    "## 使用ライブラリの読み込み"
   ]
  },
  {
   "cell_type": "code",
   "execution_count": 41,
   "metadata": {},
   "outputs": [],
   "source": [
    "import pandas as pd\n",
    "import numpy as np\n",
    "import seaborn as sns\n",
    "import matplotlib.pyplot as plt"
   ]
  },
  {
   "cell_type": "markdown",
   "metadata": {},
   "source": [
    "## データをimportする"
   ]
  },
  {
   "cell_type": "code",
   "execution_count": 42,
   "metadata": {},
   "outputs": [],
   "source": [
    "data = pd.read_csv(\"retail_sample_data.csv\")"
   ]
  },
  {
   "cell_type": "code",
   "execution_count": 43,
   "metadata": {},
   "outputs": [
    {
     "data": {
      "text/html": [
       "<div>\n",
       "<style scoped>\n",
       "    .dataframe tbody tr th:only-of-type {\n",
       "        vertical-align: middle;\n",
       "    }\n",
       "\n",
       "    .dataframe tbody tr th {\n",
       "        vertical-align: top;\n",
       "    }\n",
       "\n",
       "    .dataframe thead th {\n",
       "        text-align: right;\n",
       "    }\n",
       "</style>\n",
       "<table border=\"1\" class=\"dataframe\">\n",
       "  <thead>\n",
       "    <tr style=\"text-align: right;\">\n",
       "      <th></th>\n",
       "      <th>inventory_qty</th>\n",
       "      <th>Color</th>\n",
       "      <th>Size</th>\n",
       "      <th>Price</th>\n",
       "      <th>Brand</th>\n",
       "      <th>P/L</th>\n",
       "    </tr>\n",
       "  </thead>\n",
       "  <tbody>\n",
       "    <tr>\n",
       "      <th>0</th>\n",
       "      <td>15</td>\n",
       "      <td>blue</td>\n",
       "      <td>S</td>\n",
       "      <td>41.0</td>\n",
       "      <td>Adidas</td>\n",
       "      <td>P</td>\n",
       "    </tr>\n",
       "    <tr>\n",
       "      <th>1</th>\n",
       "      <td>13</td>\n",
       "      <td>red</td>\n",
       "      <td>S</td>\n",
       "      <td>74.0</td>\n",
       "      <td>Puma</td>\n",
       "      <td>P</td>\n",
       "    </tr>\n",
       "    <tr>\n",
       "      <th>2</th>\n",
       "      <td>12</td>\n",
       "      <td>grey</td>\n",
       "      <td>S</td>\n",
       "      <td>896.0</td>\n",
       "      <td>Puma</td>\n",
       "      <td>P</td>\n",
       "    </tr>\n",
       "    <tr>\n",
       "      <th>3</th>\n",
       "      <td>14</td>\n",
       "      <td>red</td>\n",
       "      <td>M</td>\n",
       "      <td>556.0</td>\n",
       "      <td>Puma</td>\n",
       "      <td>L</td>\n",
       "    </tr>\n",
       "    <tr>\n",
       "      <th>4</th>\n",
       "      <td>14</td>\n",
       "      <td>grey</td>\n",
       "      <td>M</td>\n",
       "      <td>755.0</td>\n",
       "      <td>Puma</td>\n",
       "      <td>P</td>\n",
       "    </tr>\n",
       "  </tbody>\n",
       "</table>\n",
       "</div>"
      ],
      "text/plain": [
       "   inventory_qty Color Size  Price   Brand P/L\n",
       "0             15  blue    S   41.0  Adidas   P\n",
       "1             13   red    S   74.0    Puma   P\n",
       "2             12  grey    S  896.0    Puma   P\n",
       "3             14   red    M  556.0    Puma   L\n",
       "4             14  grey    M  755.0    Puma   P"
      ]
     },
     "execution_count": 43,
     "metadata": {},
     "output_type": "execute_result"
    }
   ],
   "source": [
    "data.head()"
   ]
  },
  {
   "cell_type": "markdown",
   "metadata": {},
   "source": [
    "### 欠損値の確認"
   ]
  },
  {
   "cell_type": "code",
   "execution_count": 44,
   "metadata": {},
   "outputs": [
    {
     "name": "stdout",
     "output_type": "stream",
     "text": [
      "<class 'pandas.core.frame.DataFrame'>\n",
      "RangeIndex: 38 entries, 0 to 37\n",
      "Data columns (total 6 columns):\n",
      "inventory_qty    38 non-null int64\n",
      "Color            38 non-null object\n",
      "Size             38 non-null object\n",
      "Price            32 non-null float64\n",
      "Brand            38 non-null object\n",
      "P/L              38 non-null object\n",
      "dtypes: float64(1), int64(1), object(4)\n",
      "memory usage: 1.9+ KB\n"
     ]
    }
   ],
   "source": [
    "data.info()"
   ]
  },
  {
   "cell_type": "markdown",
   "metadata": {},
   "source": [
    "ここで、`Price`に欠損値が含まれているのがわかる。"
   ]
  },
  {
   "cell_type": "markdown",
   "metadata": {},
   "source": [
    "## Step1. 各変数ごとの分析"
   ]
  },
  {
   "cell_type": "markdown",
   "metadata": {},
   "source": [
    "### 1. inventory_qty"
   ]
  },
  {
   "cell_type": "markdown",
   "metadata": {},
   "source": [
    "在庫数を表すので、離散的数値と見なす以外はあまり考えられない。"
   ]
  },
  {
   "cell_type": "markdown",
   "metadata": {},
   "source": [
    "#### 外れ値の検出"
   ]
  },
  {
   "cell_type": "markdown",
   "metadata": {},
   "source": [
    "seabornというデータ可視化に特化したライブラリを使用し、外れ値を視覚的に検知する。<br>\n",
    "ここでは箱ひげ図（Box Plot）と正規図（Distribution Plot）を描写し、外れ値を見つける。"
   ]
  },
  {
   "cell_type": "code",
   "execution_count": 45,
   "metadata": {},
   "outputs": [
    {
     "data": {
      "text/plain": [
       "[Text(0.5, 0, '')]"
      ]
     },
     "execution_count": 45,
     "metadata": {},
     "output_type": "execute_result"
    },
    {
     "data": {
      "image/png": "[encoded data removed]",
      "text/plain": [
       "<Figure size 432x288 with 2 Axes>"
      ]
     },
     "metadata": {
      "needs_background": "light"
     },
     "output_type": "display_data"
    }
   ],
   "source": [
    "# Cut the window in 2 parts\n",
    "f, (ax_box, ax_hist) = plt.subplots(2, sharex=True, gridspec_kw={\"height_ratios\": (.15, .85)})\n",
    " \n",
    "# Add a graph in each part\n",
    "sns.boxplot(data[\"inventory_qty\"], ax=ax_box)\n",
    "sns.distplot(data[\"inventory_qty\"], ax=ax_hist)\n",
    " \n",
    "# Remove x axis name for the boxplot\n",
    "ax_box.set(xlabel='')"
   ]
  },
  {
   "cell_type": "markdown",
   "metadata": {},
   "source": [
    "図で明らかなように、一つだけ数値が突出しているデータがある。以下では、このデータ（外れ値）を取り除き、再度プロットしてみる。"
   ]
  },
  {
   "cell_type": "code",
   "execution_count": 46,
   "metadata": {},
   "outputs": [],
   "source": [
    "data = data[data[\"inventory_qty\"] <= 1500]"
   ]
  },
  {
   "cell_type": "code",
   "execution_count": 47,
   "metadata": {},
   "outputs": [
    {
     "data": {
      "text/plain": [
       "[Text(0.5, 0, '')]"
      ]
     },
     "execution_count": 47,
     "metadata": {},
     "output_type": "execute_result"
    },
    {
     "data": {
      "image/png": "[encoded data removed]",
      "text/plain": [
       "<Figure size 432x288 with 2 Axes>"
      ]
     },
     "metadata": {
      "needs_background": "light"
     },
     "output_type": "display_data"
    }
   ],
   "source": [
    "# Cut the window in 2 parts\n",
    "f, (ax_box, ax_hist) = plt.subplots(2, sharex=True, gridspec_kw={\"height_ratios\": (.15, .85)})\n",
    " \n",
    "# Add a graph in each part\n",
    "sns.boxplot(data[\"inventory_qty\"], ax=ax_box)\n",
    "sns.distplot(data[\"inventory_qty\"], ax=ax_hist)\n",
    " \n",
    "# Remove x axis name for the boxplot\n",
    "ax_box.set(xlabel='')"
   ]
  },
  {
   "cell_type": "markdown",
   "metadata": {},
   "source": [
    "外れ値のあるデータを取り除くことができたのがわかる。"
   ]
  },
  {
   "cell_type": "markdown",
   "metadata": {},
   "source": [
    "### 2. Color"
   ]
  },
  {
   "cell_type": "markdown",
   "metadata": {},
   "source": [
    "色は文字列であり、色による優位性は※今回ないため、明らかにカテゴリカルデータである。<br>\n",
    "※色の明るさによって目的変数が変わりそうであれば、これを数値に変換することも可能である。"
   ]
  },
  {
   "cell_type": "markdown",
   "metadata": {},
   "source": [
    "文字列データは分析がしづらいため、数値に加工する必要がある。<br>\n",
    "blue = 0, red = 1, grey = 2のように番号を採番しても良いが、これをbooleanの変数の集合体であると見なす方がいい。<br>\n",
    "というのも、この数値に意味がないからだ。<br>\n",
    "つまり、この`Color`という一つのカラムから、blueか否か、redか否か、greyか否かというようなbooleanな複数カラムに加工するということ。<br>\n",
    "これを<b>ダミー変数変換</b>という。"
   ]
  },
  {
   "cell_type": "code",
   "execution_count": 48,
   "metadata": {},
   "outputs": [],
   "source": [
    "data_color = pd.get_dummies(data['Color'])"
   ]
  },
  {
   "cell_type": "code",
   "execution_count": 49,
   "metadata": {},
   "outputs": [],
   "source": [
    "data = pd.concat([data, data_color], axis=1)"
   ]
  },
  {
   "cell_type": "code",
   "execution_count": 50,
   "metadata": {},
   "outputs": [
    {
     "data": {
      "text/html": [
       "<div>\n",
       "<style scoped>\n",
       "    .dataframe tbody tr th:only-of-type {\n",
       "        vertical-align: middle;\n",
       "    }\n",
       "\n",
       "    .dataframe tbody tr th {\n",
       "        vertical-align: top;\n",
       "    }\n",
       "\n",
       "    .dataframe thead th {\n",
       "        text-align: right;\n",
       "    }\n",
       "</style>\n",
       "<table border=\"1\" class=\"dataframe\">\n",
       "  <thead>\n",
       "    <tr style=\"text-align: right;\">\n",
       "      <th></th>\n",
       "      <th>inventory_qty</th>\n",
       "      <th>Color</th>\n",
       "      <th>Size</th>\n",
       "      <th>Price</th>\n",
       "      <th>Brand</th>\n",
       "      <th>P/L</th>\n",
       "      <th>blue</th>\n",
       "      <th>grey</th>\n",
       "      <th>red</th>\n",
       "      <th>yellow</th>\n",
       "    </tr>\n",
       "  </thead>\n",
       "  <tbody>\n",
       "    <tr>\n",
       "      <th>0</th>\n",
       "      <td>15</td>\n",
       "      <td>blue</td>\n",
       "      <td>S</td>\n",
       "      <td>41.0</td>\n",
       "      <td>Adidas</td>\n",
       "      <td>P</td>\n",
       "      <td>1</td>\n",
       "      <td>0</td>\n",
       "      <td>0</td>\n",
       "      <td>0</td>\n",
       "    </tr>\n",
       "    <tr>\n",
       "      <th>1</th>\n",
       "      <td>13</td>\n",
       "      <td>red</td>\n",
       "      <td>S</td>\n",
       "      <td>74.0</td>\n",
       "      <td>Puma</td>\n",
       "      <td>P</td>\n",
       "      <td>0</td>\n",
       "      <td>0</td>\n",
       "      <td>1</td>\n",
       "      <td>0</td>\n",
       "    </tr>\n",
       "    <tr>\n",
       "      <th>2</th>\n",
       "      <td>12</td>\n",
       "      <td>grey</td>\n",
       "      <td>S</td>\n",
       "      <td>896.0</td>\n",
       "      <td>Puma</td>\n",
       "      <td>P</td>\n",
       "      <td>0</td>\n",
       "      <td>1</td>\n",
       "      <td>0</td>\n",
       "      <td>0</td>\n",
       "    </tr>\n",
       "    <tr>\n",
       "      <th>3</th>\n",
       "      <td>14</td>\n",
       "      <td>red</td>\n",
       "      <td>M</td>\n",
       "      <td>556.0</td>\n",
       "      <td>Puma</td>\n",
       "      <td>L</td>\n",
       "      <td>0</td>\n",
       "      <td>0</td>\n",
       "      <td>1</td>\n",
       "      <td>0</td>\n",
       "    </tr>\n",
       "    <tr>\n",
       "      <th>4</th>\n",
       "      <td>14</td>\n",
       "      <td>grey</td>\n",
       "      <td>M</td>\n",
       "      <td>755.0</td>\n",
       "      <td>Puma</td>\n",
       "      <td>P</td>\n",
       "      <td>0</td>\n",
       "      <td>1</td>\n",
       "      <td>0</td>\n",
       "      <td>0</td>\n",
       "    </tr>\n",
       "  </tbody>\n",
       "</table>\n",
       "</div>"
      ],
      "text/plain": [
       "   inventory_qty Color Size  Price   Brand P/L  blue  grey  red  yellow\n",
       "0             15  blue    S   41.0  Adidas   P     1     0    0       0\n",
       "1             13   red    S   74.0    Puma   P     0     0    1       0\n",
       "2             12  grey    S  896.0    Puma   P     0     1    0       0\n",
       "3             14   red    M  556.0    Puma   L     0     0    1       0\n",
       "4             14  grey    M  755.0    Puma   P     0     1    0       0"
      ]
     },
     "execution_count": 50,
     "metadata": {},
     "output_type": "execute_result"
    }
   ],
   "source": [
    "data.head()"
   ]
  },
  {
   "cell_type": "markdown",
   "metadata": {},
   "source": [
    "カテゴリカルデータであった`Color`という一カラムを、離散的数値の複数カラムに変換した。<br>\n",
    "ちなみに、元のカラムは機械学習の直前まで使用するかもしれないので、残しておく。"
   ]
  },
  {
   "cell_type": "markdown",
   "metadata": {},
   "source": [
    "### 3. Size "
   ]
  },
  {
   "cell_type": "markdown",
   "metadata": {},
   "source": [
    "サイズはS,M,L,XLのような文字列で表される。大きさを示しているので、数値に変換し、離散的数値として扱う場合が多い。<br>\n",
    "見方によってはこれを大きさではなく、あくまでカテゴリとして扱うこともできる。<br>\n",
    "その場合、`Color`のようにbooleanの変数の集合体でもいいと思う。<br>\n",
    "今回は、離散的数値として扱うために数値変換を行う。"
   ]
  },
  {
   "cell_type": "code",
   "execution_count": 51,
   "metadata": {},
   "outputs": [],
   "source": [
    "data_size = data['Size'].drop_duplicates().reset_index()\n",
    "data_size['size_num'] = [1,2,3,4]"
   ]
  },
  {
   "cell_type": "code",
   "execution_count": 52,
   "metadata": {},
   "outputs": [
    {
     "data": {
      "text/html": [
       "<div>\n",
       "<style scoped>\n",
       "    .dataframe tbody tr th:only-of-type {\n",
       "        vertical-align: middle;\n",
       "    }\n",
       "\n",
       "    .dataframe tbody tr th {\n",
       "        vertical-align: top;\n",
       "    }\n",
       "\n",
       "    .dataframe thead th {\n",
       "        text-align: right;\n",
       "    }\n",
       "</style>\n",
       "<table border=\"1\" class=\"dataframe\">\n",
       "  <thead>\n",
       "    <tr style=\"text-align: right;\">\n",
       "      <th></th>\n",
       "      <th>inventory_qty</th>\n",
       "      <th>Color</th>\n",
       "      <th>Size</th>\n",
       "      <th>Price</th>\n",
       "      <th>Brand</th>\n",
       "      <th>P/L</th>\n",
       "      <th>blue</th>\n",
       "      <th>grey</th>\n",
       "      <th>red</th>\n",
       "      <th>yellow</th>\n",
       "      <th>size_num</th>\n",
       "    </tr>\n",
       "  </thead>\n",
       "  <tbody>\n",
       "    <tr>\n",
       "      <th>0</th>\n",
       "      <td>15</td>\n",
       "      <td>blue</td>\n",
       "      <td>S</td>\n",
       "      <td>41.0</td>\n",
       "      <td>Adidas</td>\n",
       "      <td>P</td>\n",
       "      <td>1</td>\n",
       "      <td>0</td>\n",
       "      <td>0</td>\n",
       "      <td>0</td>\n",
       "      <td>1</td>\n",
       "    </tr>\n",
       "    <tr>\n",
       "      <th>1</th>\n",
       "      <td>13</td>\n",
       "      <td>red</td>\n",
       "      <td>S</td>\n",
       "      <td>74.0</td>\n",
       "      <td>Puma</td>\n",
       "      <td>P</td>\n",
       "      <td>0</td>\n",
       "      <td>0</td>\n",
       "      <td>1</td>\n",
       "      <td>0</td>\n",
       "      <td>1</td>\n",
       "    </tr>\n",
       "    <tr>\n",
       "      <th>2</th>\n",
       "      <td>12</td>\n",
       "      <td>grey</td>\n",
       "      <td>S</td>\n",
       "      <td>896.0</td>\n",
       "      <td>Puma</td>\n",
       "      <td>P</td>\n",
       "      <td>0</td>\n",
       "      <td>1</td>\n",
       "      <td>0</td>\n",
       "      <td>0</td>\n",
       "      <td>1</td>\n",
       "    </tr>\n",
       "    <tr>\n",
       "      <th>3</th>\n",
       "      <td>14</td>\n",
       "      <td>red</td>\n",
       "      <td>M</td>\n",
       "      <td>556.0</td>\n",
       "      <td>Puma</td>\n",
       "      <td>L</td>\n",
       "      <td>0</td>\n",
       "      <td>0</td>\n",
       "      <td>1</td>\n",
       "      <td>0</td>\n",
       "      <td>2</td>\n",
       "    </tr>\n",
       "    <tr>\n",
       "      <th>4</th>\n",
       "      <td>14</td>\n",
       "      <td>grey</td>\n",
       "      <td>M</td>\n",
       "      <td>755.0</td>\n",
       "      <td>Puma</td>\n",
       "      <td>P</td>\n",
       "      <td>0</td>\n",
       "      <td>1</td>\n",
       "      <td>0</td>\n",
       "      <td>0</td>\n",
       "      <td>2</td>\n",
       "    </tr>\n",
       "  </tbody>\n",
       "</table>\n",
       "</div>"
      ],
      "text/plain": [
       "   inventory_qty Color Size  Price   Brand P/L  blue  grey  red  yellow  \\\n",
       "0             15  blue    S   41.0  Adidas   P     1     0    0       0   \n",
       "1             13   red    S   74.0    Puma   P     0     0    1       0   \n",
       "2             12  grey    S  896.0    Puma   P     0     1    0       0   \n",
       "3             14   red    M  556.0    Puma   L     0     0    1       0   \n",
       "4             14  grey    M  755.0    Puma   P     0     1    0       0   \n",
       "\n",
       "   size_num  \n",
       "0         1  \n",
       "1         1  \n",
       "2         1  \n",
       "3         2  \n",
       "4         2  "
      ]
     },
     "execution_count": 52,
     "metadata": {},
     "output_type": "execute_result"
    }
   ],
   "source": [
    "#Left Joinする\n",
    "data = pd.merge(left=data,right=data_size, how='left', left_on='Size', right_on='Size')\n",
    "data = data.drop(columns=['index'])\n",
    "data.head()"
   ]
  },
  {
   "cell_type": "markdown",
   "metadata": {},
   "source": [
    "### 4. Price"
   ]
  },
  {
   "cell_type": "markdown",
   "metadata": {},
   "source": [
    "Priceは離散的数値の場合もあるし連続的数値にも取れる。<br>\n",
    "というのも店によっては小数点単位で値段設定しているので。<br>\n",
    "既に欠損値があることがわかっているので、まずは欠損値を処理する。<br>\n",
    "※欠損値を処理しないと、plotを作成する際にエラーになることがあるので、優先すること。"
   ]
  },
  {
   "cell_type": "markdown",
   "metadata": {},
   "source": [
    "#### 欠損値処理"
   ]
  },
  {
   "cell_type": "markdown",
   "metadata": {},
   "source": [
    "特徴量エンジニアリング（Feature engineering）を学習すると、欠損値処理の作法を学べる。<br>\n",
    "今は、あまり深入りするとややこしいので簡単な欠損値処理を紹介する。<br>\n",
    "と言ってもとてもシンプルで、平均値を欠損箇所に埋めるだけ。<br>\n",
    "\n",
    "平均値は、`median`、`mode`, `mean`のどれかだが、今回は独断で`median`を使用する。"
   ]
  },
  {
   "cell_type": "code",
   "execution_count": 53,
   "metadata": {},
   "outputs": [
    {
     "data": {
      "text/plain": [
       "420.0"
      ]
     },
     "execution_count": 53,
     "metadata": {},
     "output_type": "execute_result"
    }
   ],
   "source": [
    "median_price = np.median(data['Price'].dropna())\n",
    "median_price"
   ]
  },
  {
   "cell_type": "code",
   "execution_count": 54,
   "metadata": {},
   "outputs": [
    {
     "data": {
      "text/html": [
       "<div>\n",
       "<style scoped>\n",
       "    .dataframe tbody tr th:only-of-type {\n",
       "        vertical-align: middle;\n",
       "    }\n",
       "\n",
       "    .dataframe tbody tr th {\n",
       "        vertical-align: top;\n",
       "    }\n",
       "\n",
       "    .dataframe thead th {\n",
       "        text-align: right;\n",
       "    }\n",
       "</style>\n",
       "<table border=\"1\" class=\"dataframe\">\n",
       "  <thead>\n",
       "    <tr style=\"text-align: right;\">\n",
       "      <th></th>\n",
       "      <th>inventory_qty</th>\n",
       "      <th>Color</th>\n",
       "      <th>Size</th>\n",
       "      <th>Price</th>\n",
       "      <th>Brand</th>\n",
       "      <th>P/L</th>\n",
       "      <th>blue</th>\n",
       "      <th>grey</th>\n",
       "      <th>red</th>\n",
       "      <th>yellow</th>\n",
       "      <th>size_num</th>\n",
       "      <th>price_adj</th>\n",
       "    </tr>\n",
       "  </thead>\n",
       "  <tbody>\n",
       "    <tr>\n",
       "      <th>0</th>\n",
       "      <td>15</td>\n",
       "      <td>blue</td>\n",
       "      <td>S</td>\n",
       "      <td>41.0</td>\n",
       "      <td>Adidas</td>\n",
       "      <td>P</td>\n",
       "      <td>1</td>\n",
       "      <td>0</td>\n",
       "      <td>0</td>\n",
       "      <td>0</td>\n",
       "      <td>1</td>\n",
       "      <td>41.0</td>\n",
       "    </tr>\n",
       "    <tr>\n",
       "      <th>1</th>\n",
       "      <td>13</td>\n",
       "      <td>red</td>\n",
       "      <td>S</td>\n",
       "      <td>74.0</td>\n",
       "      <td>Puma</td>\n",
       "      <td>P</td>\n",
       "      <td>0</td>\n",
       "      <td>0</td>\n",
       "      <td>1</td>\n",
       "      <td>0</td>\n",
       "      <td>1</td>\n",
       "      <td>74.0</td>\n",
       "    </tr>\n",
       "    <tr>\n",
       "      <th>2</th>\n",
       "      <td>12</td>\n",
       "      <td>grey</td>\n",
       "      <td>S</td>\n",
       "      <td>896.0</td>\n",
       "      <td>Puma</td>\n",
       "      <td>P</td>\n",
       "      <td>0</td>\n",
       "      <td>1</td>\n",
       "      <td>0</td>\n",
       "      <td>0</td>\n",
       "      <td>1</td>\n",
       "      <td>896.0</td>\n",
       "    </tr>\n",
       "    <tr>\n",
       "      <th>3</th>\n",
       "      <td>14</td>\n",
       "      <td>red</td>\n",
       "      <td>M</td>\n",
       "      <td>556.0</td>\n",
       "      <td>Puma</td>\n",
       "      <td>L</td>\n",
       "      <td>0</td>\n",
       "      <td>0</td>\n",
       "      <td>1</td>\n",
       "      <td>0</td>\n",
       "      <td>2</td>\n",
       "      <td>556.0</td>\n",
       "    </tr>\n",
       "    <tr>\n",
       "      <th>4</th>\n",
       "      <td>14</td>\n",
       "      <td>grey</td>\n",
       "      <td>M</td>\n",
       "      <td>755.0</td>\n",
       "      <td>Puma</td>\n",
       "      <td>P</td>\n",
       "      <td>0</td>\n",
       "      <td>1</td>\n",
       "      <td>0</td>\n",
       "      <td>0</td>\n",
       "      <td>2</td>\n",
       "      <td>755.0</td>\n",
       "    </tr>\n",
       "  </tbody>\n",
       "</table>\n",
       "</div>"
      ],
      "text/plain": [
       "   inventory_qty Color Size  Price   Brand P/L  blue  grey  red  yellow  \\\n",
       "0             15  blue    S   41.0  Adidas   P     1     0    0       0   \n",
       "1             13   red    S   74.0    Puma   P     0     0    1       0   \n",
       "2             12  grey    S  896.0    Puma   P     0     1    0       0   \n",
       "3             14   red    M  556.0    Puma   L     0     0    1       0   \n",
       "4             14  grey    M  755.0    Puma   P     0     1    0       0   \n",
       "\n",
       "   size_num  price_adj  \n",
       "0         1       41.0  \n",
       "1         1       74.0  \n",
       "2         1      896.0  \n",
       "3         2      556.0  \n",
       "4         2      755.0  "
      ]
     },
     "execution_count": 54,
     "metadata": {},
     "output_type": "execute_result"
    }
   ],
   "source": [
    "data['price_adj'] = data['Price'].fillna(median_price)\n",
    "data.head()"
   ]
  },
  {
   "cell_type": "markdown",
   "metadata": {},
   "source": [
    "箱ひげ図（Box Plot）と正規図（Distribution Plot）を描写し、外れ値がないか確認する。"
   ]
  },
  {
   "cell_type": "code",
   "execution_count": 55,
   "metadata": {
    "scrolled": true
   },
   "outputs": [
    {
     "data": {
      "text/plain": [
       "[Text(0.5, 0, '')]"
      ]
     },
     "execution_count": 55,
     "metadata": {},
     "output_type": "execute_result"
    },
    {
     "data": {
      "image/png": "[encoded data removed]",
      "text/plain": [
       "<Figure size 432x288 with 2 Axes>"
      ]
     },
     "metadata": {
      "needs_background": "light"
     },
     "output_type": "display_data"
    }
   ],
   "source": [
    "# Cut the window in 2 parts\n",
    "f, (ax_box, ax_hist) = plt.subplots(2, sharex=True, gridspec_kw={\"height_ratios\": (.15, .85)})\n",
    " \n",
    "# Add a graph in each part\n",
    "sns.boxplot(data[\"price_adj\"], ax=ax_box)\n",
    "sns.distplot(data[\"price_adj\"], ax=ax_hist)\n",
    " \n",
    "# Remove x axis name for the boxplot\n",
    "ax_box.set(xlabel='')"
   ]
  },
  {
   "cell_type": "markdown",
   "metadata": {},
   "source": [
    "外れ値がないことがわかる。"
   ]
  },
  {
   "cell_type": "markdown",
   "metadata": {},
   "source": [
    "### 5. Brand"
   ]
  },
  {
   "cell_type": "markdown",
   "metadata": {},
   "source": [
    "カテゴリカルデータと見なす（それ以外は考えづらい）ので、Colorと同じく、ダミー変数変換を行う。"
   ]
  },
  {
   "cell_type": "code",
   "execution_count": 56,
   "metadata": {},
   "outputs": [
    {
     "data": {
      "text/html": [
       "<div>\n",
       "<style scoped>\n",
       "    .dataframe tbody tr th:only-of-type {\n",
       "        vertical-align: middle;\n",
       "    }\n",
       "\n",
       "    .dataframe tbody tr th {\n",
       "        vertical-align: top;\n",
       "    }\n",
       "\n",
       "    .dataframe thead th {\n",
       "        text-align: right;\n",
       "    }\n",
       "</style>\n",
       "<table border=\"1\" class=\"dataframe\">\n",
       "  <thead>\n",
       "    <tr style=\"text-align: right;\">\n",
       "      <th></th>\n",
       "      <th>inventory_qty</th>\n",
       "      <th>Color</th>\n",
       "      <th>Size</th>\n",
       "      <th>Price</th>\n",
       "      <th>Brand</th>\n",
       "      <th>P/L</th>\n",
       "      <th>blue</th>\n",
       "      <th>grey</th>\n",
       "      <th>red</th>\n",
       "      <th>yellow</th>\n",
       "      <th>size_num</th>\n",
       "      <th>price_adj</th>\n",
       "      <th>Adidas</th>\n",
       "      <th>Champion</th>\n",
       "      <th>Puma</th>\n",
       "    </tr>\n",
       "  </thead>\n",
       "  <tbody>\n",
       "    <tr>\n",
       "      <th>0</th>\n",
       "      <td>15</td>\n",
       "      <td>blue</td>\n",
       "      <td>S</td>\n",
       "      <td>41.0</td>\n",
       "      <td>Adidas</td>\n",
       "      <td>P</td>\n",
       "      <td>1</td>\n",
       "      <td>0</td>\n",
       "      <td>0</td>\n",
       "      <td>0</td>\n",
       "      <td>1</td>\n",
       "      <td>41.0</td>\n",
       "      <td>1</td>\n",
       "      <td>0</td>\n",
       "      <td>0</td>\n",
       "    </tr>\n",
       "    <tr>\n",
       "      <th>1</th>\n",
       "      <td>13</td>\n",
       "      <td>red</td>\n",
       "      <td>S</td>\n",
       "      <td>74.0</td>\n",
       "      <td>Puma</td>\n",
       "      <td>P</td>\n",
       "      <td>0</td>\n",
       "      <td>0</td>\n",
       "      <td>1</td>\n",
       "      <td>0</td>\n",
       "      <td>1</td>\n",
       "      <td>74.0</td>\n",
       "      <td>0</td>\n",
       "      <td>0</td>\n",
       "      <td>1</td>\n",
       "    </tr>\n",
       "    <tr>\n",
       "      <th>2</th>\n",
       "      <td>12</td>\n",
       "      <td>grey</td>\n",
       "      <td>S</td>\n",
       "      <td>896.0</td>\n",
       "      <td>Puma</td>\n",
       "      <td>P</td>\n",
       "      <td>0</td>\n",
       "      <td>1</td>\n",
       "      <td>0</td>\n",
       "      <td>0</td>\n",
       "      <td>1</td>\n",
       "      <td>896.0</td>\n",
       "      <td>0</td>\n",
       "      <td>0</td>\n",
       "      <td>1</td>\n",
       "    </tr>\n",
       "    <tr>\n",
       "      <th>3</th>\n",
       "      <td>14</td>\n",
       "      <td>red</td>\n",
       "      <td>M</td>\n",
       "      <td>556.0</td>\n",
       "      <td>Puma</td>\n",
       "      <td>L</td>\n",
       "      <td>0</td>\n",
       "      <td>0</td>\n",
       "      <td>1</td>\n",
       "      <td>0</td>\n",
       "      <td>2</td>\n",
       "      <td>556.0</td>\n",
       "      <td>0</td>\n",
       "      <td>0</td>\n",
       "      <td>1</td>\n",
       "    </tr>\n",
       "    <tr>\n",
       "      <th>4</th>\n",
       "      <td>14</td>\n",
       "      <td>grey</td>\n",
       "      <td>M</td>\n",
       "      <td>755.0</td>\n",
       "      <td>Puma</td>\n",
       "      <td>P</td>\n",
       "      <td>0</td>\n",
       "      <td>1</td>\n",
       "      <td>0</td>\n",
       "      <td>0</td>\n",
       "      <td>2</td>\n",
       "      <td>755.0</td>\n",
       "      <td>0</td>\n",
       "      <td>0</td>\n",
       "      <td>1</td>\n",
       "    </tr>\n",
       "  </tbody>\n",
       "</table>\n",
       "</div>"
      ],
      "text/plain": [
       "   inventory_qty Color Size  Price   Brand P/L  blue  grey  red  yellow  \\\n",
       "0             15  blue    S   41.0  Adidas   P     1     0    0       0   \n",
       "1             13   red    S   74.0    Puma   P     0     0    1       0   \n",
       "2             12  grey    S  896.0    Puma   P     0     1    0       0   \n",
       "3             14   red    M  556.0    Puma   L     0     0    1       0   \n",
       "4             14  grey    M  755.0    Puma   P     0     1    0       0   \n",
       "\n",
       "   size_num  price_adj  Adidas  Champion  Puma  \n",
       "0         1       41.0       1         0     0  \n",
       "1         1       74.0       0         0     1  \n",
       "2         1      896.0       0         0     1  \n",
       "3         2      556.0       0         0     1  \n",
       "4         2      755.0       0         0     1  "
      ]
     },
     "execution_count": 56,
     "metadata": {},
     "output_type": "execute_result"
    }
   ],
   "source": [
    "data_brand = pd.get_dummies(data['Brand'])\n",
    "data = pd.concat([data, data_brand], axis=1)\n",
    "data.head()"
   ]
  },
  {
   "cell_type": "markdown",
   "metadata": {},
   "source": [
    "### 6. P/L"
   ]
  },
  {
   "cell_type": "markdown",
   "metadata": {},
   "source": [
    "最後に、目的変数である`P/L`を0,1に変換する。"
   ]
  },
  {
   "cell_type": "code",
   "execution_count": 57,
   "metadata": {},
   "outputs": [
    {
     "data": {
      "text/html": [
       "<div>\n",
       "<style scoped>\n",
       "    .dataframe tbody tr th:only-of-type {\n",
       "        vertical-align: middle;\n",
       "    }\n",
       "\n",
       "    .dataframe tbody tr th {\n",
       "        vertical-align: top;\n",
       "    }\n",
       "\n",
       "    .dataframe thead th {\n",
       "        text-align: right;\n",
       "    }\n",
       "</style>\n",
       "<table border=\"1\" class=\"dataframe\">\n",
       "  <thead>\n",
       "    <tr style=\"text-align: right;\">\n",
       "      <th></th>\n",
       "      <th>inventory_qty</th>\n",
       "      <th>Color</th>\n",
       "      <th>Size</th>\n",
       "      <th>Price</th>\n",
       "      <th>Brand</th>\n",
       "      <th>P/L</th>\n",
       "      <th>blue</th>\n",
       "      <th>grey</th>\n",
       "      <th>red</th>\n",
       "      <th>yellow</th>\n",
       "      <th>size_num</th>\n",
       "      <th>price_adj</th>\n",
       "      <th>Adidas</th>\n",
       "      <th>Champion</th>\n",
       "      <th>Puma</th>\n",
       "    </tr>\n",
       "  </thead>\n",
       "  <tbody>\n",
       "    <tr>\n",
       "      <th>0</th>\n",
       "      <td>15</td>\n",
       "      <td>blue</td>\n",
       "      <td>S</td>\n",
       "      <td>41.0</td>\n",
       "      <td>Adidas</td>\n",
       "      <td>1</td>\n",
       "      <td>1</td>\n",
       "      <td>0</td>\n",
       "      <td>0</td>\n",
       "      <td>0</td>\n",
       "      <td>1</td>\n",
       "      <td>41.0</td>\n",
       "      <td>1</td>\n",
       "      <td>0</td>\n",
       "      <td>0</td>\n",
       "    </tr>\n",
       "    <tr>\n",
       "      <th>1</th>\n",
       "      <td>13</td>\n",
       "      <td>red</td>\n",
       "      <td>S</td>\n",
       "      <td>74.0</td>\n",
       "      <td>Puma</td>\n",
       "      <td>1</td>\n",
       "      <td>0</td>\n",
       "      <td>0</td>\n",
       "      <td>1</td>\n",
       "      <td>0</td>\n",
       "      <td>1</td>\n",
       "      <td>74.0</td>\n",
       "      <td>0</td>\n",
       "      <td>0</td>\n",
       "      <td>1</td>\n",
       "    </tr>\n",
       "    <tr>\n",
       "      <th>2</th>\n",
       "      <td>12</td>\n",
       "      <td>grey</td>\n",
       "      <td>S</td>\n",
       "      <td>896.0</td>\n",
       "      <td>Puma</td>\n",
       "      <td>1</td>\n",
       "      <td>0</td>\n",
       "      <td>1</td>\n",
       "      <td>0</td>\n",
       "      <td>0</td>\n",
       "      <td>1</td>\n",
       "      <td>896.0</td>\n",
       "      <td>0</td>\n",
       "      <td>0</td>\n",
       "      <td>1</td>\n",
       "    </tr>\n",
       "    <tr>\n",
       "      <th>3</th>\n",
       "      <td>14</td>\n",
       "      <td>red</td>\n",
       "      <td>M</td>\n",
       "      <td>556.0</td>\n",
       "      <td>Puma</td>\n",
       "      <td>0</td>\n",
       "      <td>0</td>\n",
       "      <td>0</td>\n",
       "      <td>1</td>\n",
       "      <td>0</td>\n",
       "      <td>2</td>\n",
       "      <td>556.0</td>\n",
       "      <td>0</td>\n",
       "      <td>0</td>\n",
       "      <td>1</td>\n",
       "    </tr>\n",
       "    <tr>\n",
       "      <th>4</th>\n",
       "      <td>14</td>\n",
       "      <td>grey</td>\n",
       "      <td>M</td>\n",
       "      <td>755.0</td>\n",
       "      <td>Puma</td>\n",
       "      <td>1</td>\n",
       "      <td>0</td>\n",
       "      <td>1</td>\n",
       "      <td>0</td>\n",
       "      <td>0</td>\n",
       "      <td>2</td>\n",
       "      <td>755.0</td>\n",
       "      <td>0</td>\n",
       "      <td>0</td>\n",
       "      <td>1</td>\n",
       "    </tr>\n",
       "  </tbody>\n",
       "</table>\n",
       "</div>"
      ],
      "text/plain": [
       "   inventory_qty Color Size  Price   Brand  P/L  blue  grey  red  yellow  \\\n",
       "0             15  blue    S   41.0  Adidas    1     1     0    0       0   \n",
       "1             13   red    S   74.0    Puma    1     0     0    1       0   \n",
       "2             12  grey    S  896.0    Puma    1     0     1    0       0   \n",
       "3             14   red    M  556.0    Puma    0     0     0    1       0   \n",
       "4             14  grey    M  755.0    Puma    1     0     1    0       0   \n",
       "\n",
       "   size_num  price_adj  Adidas  Champion  Puma  \n",
       "0         1       41.0       1         0     0  \n",
       "1         1       74.0       0         0     1  \n",
       "2         1      896.0       0         0     1  \n",
       "3         2      556.0       0         0     1  \n",
       "4         2      755.0       0         0     1  "
      ]
     },
     "execution_count": 57,
     "metadata": {},
     "output_type": "execute_result"
    }
   ],
   "source": [
    "data['P/L'] = data['P/L'].replace('L', 0)\n",
    "data['P/L'] = data['P/L'].replace('P', 1)\n",
    "data.head()"
   ]
  },
  {
   "cell_type": "markdown",
   "metadata": {},
   "source": [
    "## Step2. データを包括的に見る"
   ]
  },
  {
   "cell_type": "markdown",
   "metadata": {},
   "source": [
    "Step1でデータがある程度綺麗になった、つまり、見やすくもなった。<br>\n",
    "なので、今度はデータにどんな傾向があるのかを見る。<br>\n",
    "もっとも代表的なものとして、\n",
    "1. pandas.dataframeの<b>describe()</b><br>\n",
    "2. seabornが提供する<b>heatmap</b>\n",
    "\n",
    "などが挙げられる。<br>\n",
    "実際に以下で使用する。<br>"
   ]
  },
  {
   "cell_type": "code",
   "execution_count": 58,
   "metadata": {},
   "outputs": [
    {
     "data": {
      "text/html": [
       "<div>\n",
       "<style scoped>\n",
       "    .dataframe tbody tr th:only-of-type {\n",
       "        vertical-align: middle;\n",
       "    }\n",
       "\n",
       "    .dataframe tbody tr th {\n",
       "        vertical-align: top;\n",
       "    }\n",
       "\n",
       "    .dataframe thead th {\n",
       "        text-align: right;\n",
       "    }\n",
       "</style>\n",
       "<table border=\"1\" class=\"dataframe\">\n",
       "  <thead>\n",
       "    <tr style=\"text-align: right;\">\n",
       "      <th></th>\n",
       "      <th>inventory_qty</th>\n",
       "      <th>Price</th>\n",
       "      <th>P/L</th>\n",
       "      <th>blue</th>\n",
       "      <th>grey</th>\n",
       "      <th>red</th>\n",
       "      <th>yellow</th>\n",
       "      <th>size_num</th>\n",
       "      <th>price_adj</th>\n",
       "      <th>Adidas</th>\n",
       "      <th>Champion</th>\n",
       "      <th>Puma</th>\n",
       "    </tr>\n",
       "  </thead>\n",
       "  <tbody>\n",
       "    <tr>\n",
       "      <th>count</th>\n",
       "      <td>37.000000</td>\n",
       "      <td>31.000000</td>\n",
       "      <td>37.000000</td>\n",
       "      <td>37.000000</td>\n",
       "      <td>37.000000</td>\n",
       "      <td>37.000000</td>\n",
       "      <td>37.000000</td>\n",
       "      <td>37.000000</td>\n",
       "      <td>37.000000</td>\n",
       "      <td>37.000000</td>\n",
       "      <td>37.000000</td>\n",
       "      <td>37.000000</td>\n",
       "    </tr>\n",
       "    <tr>\n",
       "      <th>mean</th>\n",
       "      <td>15.270270</td>\n",
       "      <td>463.903226</td>\n",
       "      <td>0.729730</td>\n",
       "      <td>0.216216</td>\n",
       "      <td>0.243243</td>\n",
       "      <td>0.459459</td>\n",
       "      <td>0.081081</td>\n",
       "      <td>2.594595</td>\n",
       "      <td>456.783784</td>\n",
       "      <td>0.324324</td>\n",
       "      <td>0.270270</td>\n",
       "      <td>0.405405</td>\n",
       "    </tr>\n",
       "    <tr>\n",
       "      <th>std</th>\n",
       "      <td>3.033596</td>\n",
       "      <td>285.494350</td>\n",
       "      <td>0.450225</td>\n",
       "      <td>0.417342</td>\n",
       "      <td>0.434959</td>\n",
       "      <td>0.505228</td>\n",
       "      <td>0.276725</td>\n",
       "      <td>1.039750</td>\n",
       "      <td>261.135356</td>\n",
       "      <td>0.474579</td>\n",
       "      <td>0.450225</td>\n",
       "      <td>0.497743</td>\n",
       "    </tr>\n",
       "    <tr>\n",
       "      <th>min</th>\n",
       "      <td>9.000000</td>\n",
       "      <td>41.000000</td>\n",
       "      <td>0.000000</td>\n",
       "      <td>0.000000</td>\n",
       "      <td>0.000000</td>\n",
       "      <td>0.000000</td>\n",
       "      <td>0.000000</td>\n",
       "      <td>1.000000</td>\n",
       "      <td>41.000000</td>\n",
       "      <td>0.000000</td>\n",
       "      <td>0.000000</td>\n",
       "      <td>0.000000</td>\n",
       "    </tr>\n",
       "    <tr>\n",
       "      <th>25%</th>\n",
       "      <td>13.000000</td>\n",
       "      <td>270.500000</td>\n",
       "      <td>0.000000</td>\n",
       "      <td>0.000000</td>\n",
       "      <td>0.000000</td>\n",
       "      <td>0.000000</td>\n",
       "      <td>0.000000</td>\n",
       "      <td>2.000000</td>\n",
       "      <td>292.000000</td>\n",
       "      <td>0.000000</td>\n",
       "      <td>0.000000</td>\n",
       "      <td>0.000000</td>\n",
       "    </tr>\n",
       "    <tr>\n",
       "      <th>50%</th>\n",
       "      <td>16.000000</td>\n",
       "      <td>420.000000</td>\n",
       "      <td>1.000000</td>\n",
       "      <td>0.000000</td>\n",
       "      <td>0.000000</td>\n",
       "      <td>0.000000</td>\n",
       "      <td>0.000000</td>\n",
       "      <td>3.000000</td>\n",
       "      <td>420.000000</td>\n",
       "      <td>0.000000</td>\n",
       "      <td>0.000000</td>\n",
       "      <td>0.000000</td>\n",
       "    </tr>\n",
       "    <tr>\n",
       "      <th>75%</th>\n",
       "      <td>17.000000</td>\n",
       "      <td>670.000000</td>\n",
       "      <td>1.000000</td>\n",
       "      <td>0.000000</td>\n",
       "      <td>0.000000</td>\n",
       "      <td>1.000000</td>\n",
       "      <td>0.000000</td>\n",
       "      <td>3.000000</td>\n",
       "      <td>665.000000</td>\n",
       "      <td>1.000000</td>\n",
       "      <td>1.000000</td>\n",
       "      <td>1.000000</td>\n",
       "    </tr>\n",
       "    <tr>\n",
       "      <th>max</th>\n",
       "      <td>21.000000</td>\n",
       "      <td>990.000000</td>\n",
       "      <td>1.000000</td>\n",
       "      <td>1.000000</td>\n",
       "      <td>1.000000</td>\n",
       "      <td>1.000000</td>\n",
       "      <td>1.000000</td>\n",
       "      <td>4.000000</td>\n",
       "      <td>990.000000</td>\n",
       "      <td>1.000000</td>\n",
       "      <td>1.000000</td>\n",
       "      <td>1.000000</td>\n",
       "    </tr>\n",
       "  </tbody>\n",
       "</table>\n",
       "</div>"
      ],
      "text/plain": [
       "       inventory_qty       Price        P/L       blue       grey        red  \\\n",
       "count      37.000000   31.000000  37.000000  37.000000  37.000000  37.000000   \n",
       "mean       15.270270  463.903226   0.729730   0.216216   0.243243   0.459459   \n",
       "std         3.033596  285.494350   0.450225   0.417342   0.434959   0.505228   \n",
       "min         9.000000   41.000000   0.000000   0.000000   0.000000   0.000000   \n",
       "25%        13.000000  270.500000   0.000000   0.000000   0.000000   0.000000   \n",
       "50%        16.000000  420.000000   1.000000   0.000000   0.000000   0.000000   \n",
       "75%        17.000000  670.000000   1.000000   0.000000   0.000000   1.000000   \n",
       "max        21.000000  990.000000   1.000000   1.000000   1.000000   1.000000   \n",
       "\n",
       "          yellow   size_num   price_adj     Adidas   Champion       Puma  \n",
       "count  37.000000  37.000000   37.000000  37.000000  37.000000  37.000000  \n",
       "mean    0.081081   2.594595  456.783784   0.324324   0.270270   0.405405  \n",
       "std     0.276725   1.039750  261.135356   0.474579   0.450225   0.497743  \n",
       "min     0.000000   1.000000   41.000000   0.000000   0.000000   0.000000  \n",
       "25%     0.000000   2.000000  292.000000   0.000000   0.000000   0.000000  \n",
       "50%     0.000000   3.000000  420.000000   0.000000   0.000000   0.000000  \n",
       "75%     0.000000   3.000000  665.000000   1.000000   1.000000   1.000000  \n",
       "max     1.000000   4.000000  990.000000   1.000000   1.000000   1.000000  "
      ]
     },
     "execution_count": 58,
     "metadata": {},
     "output_type": "execute_result"
    }
   ],
   "source": [
    "data.describe()"
   ]
  },
  {
   "cell_type": "markdown",
   "metadata": {},
   "source": [
    "これでなんとなく、ばらつきがあるか(std)、平均がどのくらいかがわかる。"
   ]
  },
  {
   "cell_type": "markdown",
   "metadata": {},
   "source": [
    "次にseabornが提供するheatmapを見てみる。欠損値や数値でないカラムがあるとエラーになるので、実行時には除いておく。"
   ]
  },
  {
   "cell_type": "code",
   "execution_count": 59,
   "metadata": {},
   "outputs": [
    {
     "data": {
      "text/plain": [
       "<matplotlib.axes._subplots.AxesSubplot at 0x1a290ff6a0>"
      ]
     },
     "execution_count": 59,
     "metadata": {},
     "output_type": "execute_result"
    },
    {
     "data": {
      "image/png": "[encoded data removed]",
      "text/plain": [
       "<Figure size 432x288 with 2 Axes>"
      ]
     },
     "metadata": {
      "needs_background": "light"
     },
     "output_type": "display_data"
    }
   ],
   "source": [
    "data_heatmap = data.drop(columns=['Color','Size','Brand','Price'])\n",
    "sns.heatmap(data_heatmap,cmap=\"YlGnBu\")"
   ]
  },
  {
   "cell_type": "markdown",
   "metadata": {},
   "source": [
    "うん。見辛い。忘れたけど、数値を標準化しないと、顕著な数字が目立ってしまう。<br>\n",
    "今回は広く浅くなので、標準化はせず、顕著な`price_adj`を除く。"
   ]
  },
  {
   "cell_type": "code",
   "execution_count": 60,
   "metadata": {},
   "outputs": [
    {
     "data": {
      "text/plain": [
       "<matplotlib.axes._subplots.AxesSubplot at 0x1a29918780>"
      ]
     },
     "execution_count": 60,
     "metadata": {},
     "output_type": "execute_result"
    },
    {
     "data": {
      "image/png": "[encoded data removed]",
      "text/plain": [
       "<Figure size 432x288 with 2 Axes>"
      ]
     },
     "metadata": {
      "needs_background": "light"
     },
     "output_type": "display_data"
    }
   ],
   "source": [
    "data_heatmap = data.drop(columns=['Color','Size','Brand','Price','price_adj'])\n",
    "sns.heatmap(data_heatmap, cmap=\"YlGnBu\")"
   ]
  },
  {
   "cell_type": "markdown",
   "metadata": {},
   "source": [
    "目的変数でソートする。"
   ]
  },
  {
   "cell_type": "code",
   "execution_count": 61,
   "metadata": {},
   "outputs": [
    {
     "data": {
      "text/plain": [
       "<matplotlib.axes._subplots.AxesSubplot at 0x1a29dbd400>"
      ]
     },
     "execution_count": 61,
     "metadata": {},
     "output_type": "execute_result"
    },
    {
     "data": {
      "image/png": "[encoded data removed]",
      "text/plain": [
       "<Figure size 432x288 with 2 Axes>"
      ]
     },
     "metadata": {
      "needs_background": "light"
     },
     "output_type": "display_data"
    }
   ],
   "source": [
    "data_heatmap = data_heatmap.sort_values(by=['P/L'])\n",
    "sns.heatmap(data_heatmap, cmap=\"YlGnBu\")"
   ]
  },
  {
   "cell_type": "markdown",
   "metadata": {},
   "source": [
    "特に、顕著な特徴は見受けられなかった。<br>\n",
    "強いて言うなら、黄色の商品は必ず`Profit`なので、今後の分析で大きなFactorになりうる。"
   ]
  },
  {
   "cell_type": "markdown",
   "metadata": {},
   "source": [
    "## Step3. 変数間の関係を見る"
   ]
  },
  {
   "cell_type": "markdown",
   "metadata": {},
   "source": [
    "#### ペアプロット図"
   ]
  },
  {
   "cell_type": "markdown",
   "metadata": {},
   "source": [
    "多くの変数があるときに変数ペア間の関係を調べたい場合はペアプロット図（プロット行列）を描くのが有効である。<br>\n",
    "以下では、seabornの`pairplot`を使い、数値変数のペアプロット図を描く。\n",
    "seabornの`pairplot`では、ペアプロット図の他に、対角線上にヒストグラムを描くことができる（正確にはカーネル密度推定グラフ）。\n",
    "また、`pairplot`の`hue`パラメーターにカラムを指定すると、そのカラムの値別にデータを分類してくれる。\n",
    "つまり、`hue`に目的変数である`P/L`を指定すると、P、Lごとにデータを分類してグラフ化してくれる。\n",
    "\n",
    "以下、実際にグラフを描写する。"
   ]
  },
  {
   "cell_type": "code",
   "execution_count": 62,
   "metadata": {},
   "outputs": [
    {
     "data": {
      "text/plain": [
       "<seaborn.axisgrid.PairGrid at 0x1a299379b0>"
      ]
     },
     "execution_count": 62,
     "metadata": {},
     "output_type": "execute_result"
    },
    {
     "data": {
      "image/png": "[encoded data removed]",
      "text/plain": [
       "<Figure size 582.375x540 with 12 Axes>"
      ]
     },
     "metadata": {
      "needs_background": "light"
     },
     "output_type": "display_data"
    }
   ],
   "source": [
    "sns.pairplot(data, hue=\"P/L\", vars=['inventory_qty','size_num','price_adj'])"
   ]
  },
  {
   "cell_type": "markdown",
   "metadata": {},
   "source": [
    "見てわかるように、`size_num`の場合、データがうまく分散されず見辛い。<br>\n",
    "これが離散的数値を可視化するときのデメリットである。できるなら、プロット図は連続的数値のみに限定する方がいいだろう。<br>\n",
    "とはいえ、図を見ると`size_num`が大きいとL、つまり損失しやすいことに気づくことができる。"
   ]
  },
  {
   "cell_type": "markdown",
   "metadata": {},
   "source": [
    "#### カテゴリカルデータのカテゴリ別特徴の可視化"
   ]
  },
  {
   "cell_type": "markdown",
   "metadata": {},
   "source": [
    "カテゴリカルデータの値ごとにデータを分けると、データの特徴に気づくことがある。<br>\n",
    "例えば、ブランド別に値を分けたときに、高級ブランドの商品の値段の平均値が顕著に高いかもしれない。<br>\n",
    "今回、カテゴリ別平均値を示す。"
   ]
  },
  {
   "cell_type": "code",
   "execution_count": 63,
   "metadata": {},
   "outputs": [
    {
     "data": {
      "text/html": [
       "<div>\n",
       "<style scoped>\n",
       "    .dataframe tbody tr th:only-of-type {\n",
       "        vertical-align: middle;\n",
       "    }\n",
       "\n",
       "    .dataframe tbody tr th {\n",
       "        vertical-align: top;\n",
       "    }\n",
       "\n",
       "    .dataframe thead th {\n",
       "        text-align: right;\n",
       "    }\n",
       "</style>\n",
       "<table border=\"1\" class=\"dataframe\">\n",
       "  <thead>\n",
       "    <tr style=\"text-align: right;\">\n",
       "      <th></th>\n",
       "      <th>inventory_qty</th>\n",
       "      <th>P/L</th>\n",
       "      <th>blue</th>\n",
       "      <th>grey</th>\n",
       "      <th>red</th>\n",
       "      <th>yellow</th>\n",
       "      <th>size_num</th>\n",
       "      <th>price_adj</th>\n",
       "      <th>Adidas</th>\n",
       "      <th>Champion</th>\n",
       "      <th>Puma</th>\n",
       "    </tr>\n",
       "    <tr>\n",
       "      <th>Color</th>\n",
       "      <th></th>\n",
       "      <th></th>\n",
       "      <th></th>\n",
       "      <th></th>\n",
       "      <th></th>\n",
       "      <th></th>\n",
       "      <th></th>\n",
       "      <th></th>\n",
       "      <th></th>\n",
       "      <th></th>\n",
       "      <th></th>\n",
       "    </tr>\n",
       "  </thead>\n",
       "  <tbody>\n",
       "    <tr>\n",
       "      <th>blue</th>\n",
       "      <td>14.625000</td>\n",
       "      <td>0.625000</td>\n",
       "      <td>1.0</td>\n",
       "      <td>0.0</td>\n",
       "      <td>0.0</td>\n",
       "      <td>0.0</td>\n",
       "      <td>2.375000</td>\n",
       "      <td>425.375000</td>\n",
       "      <td>0.375000</td>\n",
       "      <td>0.250000</td>\n",
       "      <td>0.375000</td>\n",
       "    </tr>\n",
       "    <tr>\n",
       "      <th>grey</th>\n",
       "      <td>15.000000</td>\n",
       "      <td>0.666667</td>\n",
       "      <td>0.0</td>\n",
       "      <td>1.0</td>\n",
       "      <td>0.0</td>\n",
       "      <td>0.0</td>\n",
       "      <td>2.444444</td>\n",
       "      <td>552.444444</td>\n",
       "      <td>0.333333</td>\n",
       "      <td>0.333333</td>\n",
       "      <td>0.333333</td>\n",
       "    </tr>\n",
       "    <tr>\n",
       "      <th>red</th>\n",
       "      <td>15.823529</td>\n",
       "      <td>0.764706</td>\n",
       "      <td>0.0</td>\n",
       "      <td>0.0</td>\n",
       "      <td>1.0</td>\n",
       "      <td>0.0</td>\n",
       "      <td>2.705882</td>\n",
       "      <td>451.176471</td>\n",
       "      <td>0.176471</td>\n",
       "      <td>0.294118</td>\n",
       "      <td>0.529412</td>\n",
       "    </tr>\n",
       "    <tr>\n",
       "      <th>yellow</th>\n",
       "      <td>14.666667</td>\n",
       "      <td>1.000000</td>\n",
       "      <td>0.0</td>\n",
       "      <td>0.0</td>\n",
       "      <td>0.0</td>\n",
       "      <td>1.0</td>\n",
       "      <td>3.000000</td>\n",
       "      <td>285.333333</td>\n",
       "      <td>1.000000</td>\n",
       "      <td>0.000000</td>\n",
       "      <td>0.000000</td>\n",
       "    </tr>\n",
       "  </tbody>\n",
       "</table>\n",
       "</div>"
      ],
      "text/plain": [
       "        inventory_qty       P/L  blue  grey  red  yellow  size_num  \\\n",
       "Color                                                                \n",
       "blue        14.625000  0.625000   1.0   0.0  0.0     0.0  2.375000   \n",
       "grey        15.000000  0.666667   0.0   1.0  0.0     0.0  2.444444   \n",
       "red         15.823529  0.764706   0.0   0.0  1.0     0.0  2.705882   \n",
       "yellow      14.666667  1.000000   0.0   0.0  0.0     1.0  3.000000   \n",
       "\n",
       "         price_adj    Adidas  Champion      Puma  \n",
       "Color                                             \n",
       "blue    425.375000  0.375000  0.250000  0.375000  \n",
       "grey    552.444444  0.333333  0.333333  0.333333  \n",
       "red     451.176471  0.176471  0.294118  0.529412  \n",
       "yellow  285.333333  1.000000  0.000000  0.000000  "
      ]
     },
     "execution_count": 63,
     "metadata": {},
     "output_type": "execute_result"
    }
   ],
   "source": [
    "#Priceは欠損値があるので除く\n",
    "data = data.drop(columns=['Price'])\n",
    "data.groupby('Color').mean()"
   ]
  },
  {
   "cell_type": "markdown",
   "metadata": {},
   "source": [
    "Colorが`yellow`もしくは`red`の場合、P（利益）につながりやすいかもしれないことがわかる。"
   ]
  },
  {
   "cell_type": "code",
   "execution_count": 66,
   "metadata": {},
   "outputs": [
    {
     "data": {
      "text/html": [
       "<div>\n",
       "<style scoped>\n",
       "    .dataframe tbody tr th:only-of-type {\n",
       "        vertical-align: middle;\n",
       "    }\n",
       "\n",
       "    .dataframe tbody tr th {\n",
       "        vertical-align: top;\n",
       "    }\n",
       "\n",
       "    .dataframe thead th {\n",
       "        text-align: right;\n",
       "    }\n",
       "</style>\n",
       "<table border=\"1\" class=\"dataframe\">\n",
       "  <thead>\n",
       "    <tr style=\"text-align: right;\">\n",
       "      <th></th>\n",
       "      <th>inventory_qty</th>\n",
       "      <th>P/L</th>\n",
       "      <th>blue</th>\n",
       "      <th>grey</th>\n",
       "      <th>red</th>\n",
       "      <th>yellow</th>\n",
       "      <th>size_num</th>\n",
       "      <th>price_adj</th>\n",
       "      <th>Adidas</th>\n",
       "      <th>Champion</th>\n",
       "      <th>Puma</th>\n",
       "    </tr>\n",
       "    <tr>\n",
       "      <th>Brand</th>\n",
       "      <th></th>\n",
       "      <th></th>\n",
       "      <th></th>\n",
       "      <th></th>\n",
       "      <th></th>\n",
       "      <th></th>\n",
       "      <th></th>\n",
       "      <th></th>\n",
       "      <th></th>\n",
       "      <th></th>\n",
       "      <th></th>\n",
       "    </tr>\n",
       "  </thead>\n",
       "  <tbody>\n",
       "    <tr>\n",
       "      <th>Adidas</th>\n",
       "      <td>15.75</td>\n",
       "      <td>0.75</td>\n",
       "      <td>0.25</td>\n",
       "      <td>0.25</td>\n",
       "      <td>0.25</td>\n",
       "      <td>0.25</td>\n",
       "      <td>2.250000</td>\n",
       "      <td>318.666667</td>\n",
       "      <td>1.0</td>\n",
       "      <td>0.0</td>\n",
       "      <td>0.0</td>\n",
       "    </tr>\n",
       "    <tr>\n",
       "      <th>Champion</th>\n",
       "      <td>14.20</td>\n",
       "      <td>0.90</td>\n",
       "      <td>0.20</td>\n",
       "      <td>0.30</td>\n",
       "      <td>0.50</td>\n",
       "      <td>0.00</td>\n",
       "      <td>2.300000</td>\n",
       "      <td>563.600000</td>\n",
       "      <td>0.0</td>\n",
       "      <td>1.0</td>\n",
       "      <td>0.0</td>\n",
       "    </tr>\n",
       "    <tr>\n",
       "      <th>Puma</th>\n",
       "      <td>15.60</td>\n",
       "      <td>0.60</td>\n",
       "      <td>0.20</td>\n",
       "      <td>0.20</td>\n",
       "      <td>0.60</td>\n",
       "      <td>0.00</td>\n",
       "      <td>3.066667</td>\n",
       "      <td>496.066667</td>\n",
       "      <td>0.0</td>\n",
       "      <td>0.0</td>\n",
       "      <td>1.0</td>\n",
       "    </tr>\n",
       "  </tbody>\n",
       "</table>\n",
       "</div>"
      ],
      "text/plain": [
       "          inventory_qty   P/L  blue  grey   red  yellow  size_num   price_adj  \\\n",
       "Brand                                                                           \n",
       "Adidas            15.75  0.75  0.25  0.25  0.25    0.25  2.250000  318.666667   \n",
       "Champion          14.20  0.90  0.20  0.30  0.50    0.00  2.300000  563.600000   \n",
       "Puma              15.60  0.60  0.20  0.20  0.60    0.00  3.066667  496.066667   \n",
       "\n",
       "          Adidas  Champion  Puma  \n",
       "Brand                             \n",
       "Adidas       1.0       0.0   0.0  \n",
       "Champion     0.0       1.0   0.0  \n",
       "Puma         0.0       0.0   1.0  "
      ]
     },
     "execution_count": 66,
     "metadata": {},
     "output_type": "execute_result"
    }
   ],
   "source": [
    "data.groupby('Brand').mean()"
   ]
  },
  {
   "cell_type": "markdown",
   "metadata": {},
   "source": [
    "Brandが`Adidas`もしくは`Champion`の場合、P（利益）につながりやすいかもしれないことがわかる。"
   ]
  },
  {
   "cell_type": "code",
   "execution_count": 65,
   "metadata": {},
   "outputs": [
    {
     "data": {
      "text/html": [
       "<div>\n",
       "<style scoped>\n",
       "    .dataframe tbody tr th:only-of-type {\n",
       "        vertical-align: middle;\n",
       "    }\n",
       "\n",
       "    .dataframe tbody tr th {\n",
       "        vertical-align: top;\n",
       "    }\n",
       "\n",
       "    .dataframe thead th {\n",
       "        text-align: right;\n",
       "    }\n",
       "</style>\n",
       "<table border=\"1\" class=\"dataframe\">\n",
       "  <thead>\n",
       "    <tr style=\"text-align: right;\">\n",
       "      <th></th>\n",
       "      <th>inventory_qty</th>\n",
       "      <th>P/L</th>\n",
       "      <th>blue</th>\n",
       "      <th>grey</th>\n",
       "      <th>red</th>\n",
       "      <th>yellow</th>\n",
       "      <th>size_num</th>\n",
       "      <th>price_adj</th>\n",
       "      <th>Adidas</th>\n",
       "      <th>Champion</th>\n",
       "      <th>Puma</th>\n",
       "    </tr>\n",
       "    <tr>\n",
       "      <th>Size</th>\n",
       "      <th></th>\n",
       "      <th></th>\n",
       "      <th></th>\n",
       "      <th></th>\n",
       "      <th></th>\n",
       "      <th></th>\n",
       "      <th></th>\n",
       "      <th></th>\n",
       "      <th></th>\n",
       "      <th></th>\n",
       "      <th></th>\n",
       "    </tr>\n",
       "  </thead>\n",
       "  <tbody>\n",
       "    <tr>\n",
       "      <th>L</th>\n",
       "      <td>15.461538</td>\n",
       "      <td>0.769231</td>\n",
       "      <td>0.000000</td>\n",
       "      <td>0.384615</td>\n",
       "      <td>0.384615</td>\n",
       "      <td>0.230769</td>\n",
       "      <td>3.0</td>\n",
       "      <td>399.923077</td>\n",
       "      <td>0.461538</td>\n",
       "      <td>0.384615</td>\n",
       "      <td>0.153846</td>\n",
       "    </tr>\n",
       "    <tr>\n",
       "      <th>M</th>\n",
       "      <td>14.222222</td>\n",
       "      <td>0.777778</td>\n",
       "      <td>0.222222</td>\n",
       "      <td>0.333333</td>\n",
       "      <td>0.444444</td>\n",
       "      <td>0.000000</td>\n",
       "      <td>2.0</td>\n",
       "      <td>531.333333</td>\n",
       "      <td>0.333333</td>\n",
       "      <td>0.333333</td>\n",
       "      <td>0.333333</td>\n",
       "    </tr>\n",
       "    <tr>\n",
       "      <th>S</th>\n",
       "      <td>14.428571</td>\n",
       "      <td>1.000000</td>\n",
       "      <td>0.428571</td>\n",
       "      <td>0.142857</td>\n",
       "      <td>0.428571</td>\n",
       "      <td>0.000000</td>\n",
       "      <td>1.0</td>\n",
       "      <td>505.857143</td>\n",
       "      <td>0.428571</td>\n",
       "      <td>0.285714</td>\n",
       "      <td>0.285714</td>\n",
       "    </tr>\n",
       "    <tr>\n",
       "      <th>XL</th>\n",
       "      <td>16.875000</td>\n",
       "      <td>0.375000</td>\n",
       "      <td>0.375000</td>\n",
       "      <td>0.000000</td>\n",
       "      <td>0.625000</td>\n",
       "      <td>0.000000</td>\n",
       "      <td>4.0</td>\n",
       "      <td>422.375000</td>\n",
       "      <td>0.000000</td>\n",
       "      <td>0.000000</td>\n",
       "      <td>1.000000</td>\n",
       "    </tr>\n",
       "  </tbody>\n",
       "</table>\n",
       "</div>"
      ],
      "text/plain": [
       "      inventory_qty       P/L      blue      grey       red    yellow  \\\n",
       "Size                                                                    \n",
       "L         15.461538  0.769231  0.000000  0.384615  0.384615  0.230769   \n",
       "M         14.222222  0.777778  0.222222  0.333333  0.444444  0.000000   \n",
       "S         14.428571  1.000000  0.428571  0.142857  0.428571  0.000000   \n",
       "XL        16.875000  0.375000  0.375000  0.000000  0.625000  0.000000   \n",
       "\n",
       "      size_num   price_adj    Adidas  Champion      Puma  \n",
       "Size                                                      \n",
       "L          3.0  399.923077  0.461538  0.384615  0.153846  \n",
       "M          2.0  531.333333  0.333333  0.333333  0.333333  \n",
       "S          1.0  505.857143  0.428571  0.285714  0.285714  \n",
       "XL         4.0  422.375000  0.000000  0.000000  1.000000  "
      ]
     },
     "execution_count": 65,
     "metadata": {},
     "output_type": "execute_result"
    }
   ],
   "source": [
    "data.groupby('Size').mean()"
   ]
  },
  {
   "cell_type": "markdown",
   "metadata": {},
   "source": [
    "Sizeが小さい方がP（利益）につながりやすいかもしれないことがわかる。"
   ]
  },
  {
   "cell_type": "markdown",
   "metadata": {},
   "source": [
    "### Step4. 主成分分析"
   ]
  },
  {
   "cell_type": "code",
   "execution_count": null,
   "metadata": {},
   "outputs": [],
   "source": []
  },
  {
   "cell_type": "code",
   "execution_count": null,
   "metadata": {},
   "outputs": [],
   "source": []
  }
 ],
 "metadata": {
  "kernelspec": {
   "display_name": "Python 3",
   "language": "python",
   "name": "python3"
  },
  "language_info": {
   "codemirror_mode": {
    "name": "ipython",
    "version": 3
   },
   "file_extension": ".py",
   "mimetype": "text/x-python",
   "name": "python",
   "nbconvert_exporter": "python",
   "pygments_lexer": "ipython3",
   "version": "3.7.3"
  }
 },
 "nbformat": 4,
 "nbformat_minor": 2
}
