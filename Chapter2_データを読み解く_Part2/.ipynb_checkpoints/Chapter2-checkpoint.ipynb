{
 "cells": [
  {
   "cell_type": "markdown",
   "metadata": {},
   "source": [
    "## 使用ライブラリの読み込み"
   ]
  },
  {
   "cell_type": "code",
   "execution_count": 1,
   "metadata": {},
   "outputs": [],
   "source": [
    "import pandas as pd\n",
    "import numpy as np\n",
    "import seaborn as sns\n",
    "import matplotlib.pyplot as plt"
   ]
  },
  {
   "cell_type": "markdown",
   "metadata": {},
   "source": [
    "## データをimportする"
   ]
  },
  {
   "cell_type": "code",
   "execution_count": 2,
   "metadata": {},
   "outputs": [],
   "source": [
    "data = pd.read_csv(\"retail_sample_data.csv\")"
   ]
  },
  {
   "cell_type": "code",
   "execution_count": 3,
   "metadata": {},
   "outputs": [
    {
     "data": {
      "text/html": [
       "<div>\n",
       "<style scoped>\n",
       "    .dataframe tbody tr th:only-of-type {\n",
       "        vertical-align: middle;\n",
       "    }\n",
       "\n",
       "    .dataframe tbody tr th {\n",
       "        vertical-align: top;\n",
       "    }\n",
       "\n",
       "    .dataframe thead th {\n",
       "        text-align: right;\n",
       "    }\n",
       "</style>\n",
       "<table border=\"1\" class=\"dataframe\">\n",
       "  <thead>\n",
       "    <tr style=\"text-align: right;\">\n",
       "      <th></th>\n",
       "      <th>inventory_qty</th>\n",
       "      <th>Color</th>\n",
       "      <th>Size</th>\n",
       "      <th>Price</th>\n",
       "      <th>Brand</th>\n",
       "      <th>P/L</th>\n",
       "    </tr>\n",
       "  </thead>\n",
       "  <tbody>\n",
       "    <tr>\n",
       "      <th>0</th>\n",
       "      <td>15</td>\n",
       "      <td>blue</td>\n",
       "      <td>S</td>\n",
       "      <td>41.0</td>\n",
       "      <td>Adidas</td>\n",
       "      <td>P</td>\n",
       "    </tr>\n",
       "    <tr>\n",
       "      <th>1</th>\n",
       "      <td>13</td>\n",
       "      <td>red</td>\n",
       "      <td>S</td>\n",
       "      <td>74.0</td>\n",
       "      <td>Puma</td>\n",
       "      <td>P</td>\n",
       "    </tr>\n",
       "    <tr>\n",
       "      <th>2</th>\n",
       "      <td>12</td>\n",
       "      <td>grey</td>\n",
       "      <td>S</td>\n",
       "      <td>896.0</td>\n",
       "      <td>Puma</td>\n",
       "      <td>P</td>\n",
       "    </tr>\n",
       "    <tr>\n",
       "      <th>3</th>\n",
       "      <td>14</td>\n",
       "      <td>red</td>\n",
       "      <td>M</td>\n",
       "      <td>556.0</td>\n",
       "      <td>Puma</td>\n",
       "      <td>L</td>\n",
       "    </tr>\n",
       "    <tr>\n",
       "      <th>4</th>\n",
       "      <td>14</td>\n",
       "      <td>grey</td>\n",
       "      <td>M</td>\n",
       "      <td>755.0</td>\n",
       "      <td>Puma</td>\n",
       "      <td>P</td>\n",
       "    </tr>\n",
       "  </tbody>\n",
       "</table>\n",
       "</div>"
      ],
      "text/plain": [
       "   inventory_qty Color Size  Price   Brand P/L\n",
       "0             15  blue    S   41.0  Adidas   P\n",
       "1             13   red    S   74.0    Puma   P\n",
       "2             12  grey    S  896.0    Puma   P\n",
       "3             14   red    M  556.0    Puma   L\n",
       "4             14  grey    M  755.0    Puma   P"
      ]
     },
     "execution_count": 3,
     "metadata": {},
     "output_type": "execute_result"
    }
   ],
   "source": [
    "data.head()"
   ]
  },
  {
   "cell_type": "markdown",
   "metadata": {},
   "source": [
    "### 欠損値の確認"
   ]
  },
  {
   "cell_type": "code",
   "execution_count": 4,
   "metadata": {},
   "outputs": [
    {
     "name": "stdout",
     "output_type": "stream",
     "text": [
      "<class 'pandas.core.frame.DataFrame'>\n",
      "RangeIndex: 38 entries, 0 to 37\n",
      "Data columns (total 6 columns):\n",
      "inventory_qty    38 non-null int64\n",
      "Color            38 non-null object\n",
      "Size             38 non-null object\n",
      "Price            32 non-null float64\n",
      "Brand            38 non-null object\n",
      "P/L              38 non-null object\n",
      "dtypes: float64(1), int64(1), object(4)\n",
      "memory usage: 1.9+ KB\n"
     ]
    }
   ],
   "source": [
    "data.info()"
   ]
  },
  {
   "cell_type": "markdown",
   "metadata": {},
   "source": [
    "ここで、`Price`に欠損値が含まれているのがわかる。"
   ]
  },
  {
   "cell_type": "markdown",
   "metadata": {},
   "source": [
    "## Step1. 各変数ごとの分析"
   ]
  },
  {
   "cell_type": "markdown",
   "metadata": {},
   "source": [
    "### 1. inventory_qty"
   ]
  },
  {
   "cell_type": "markdown",
   "metadata": {},
   "source": [
    "在庫数を表すので、離散的数値と見なす以外はあまり考えられない。"
   ]
  },
  {
   "cell_type": "markdown",
   "metadata": {},
   "source": [
    "#### 外れ値の検出"
   ]
  },
  {
   "cell_type": "markdown",
   "metadata": {},
   "source": [
    "seabornというデータ可視化に特化したライブラリを使用し、外れ値を視覚的に検知する。<br>\n",
    "ここでは箱ひげ図（Box Plot）と正規図（Distribution Plot）を描写し、外れ値を見つける。"
   ]
  },
  {
   "cell_type": "code",
   "execution_count": 5,
   "metadata": {},
   "outputs": [
    {
     "data": {
      "text/plain": [
       "[Text(0.5, 0, '')]"
      ]
     },
     "execution_count": 5,
     "metadata": {},
     "output_type": "execute_result"
    },
    {
     "data": {
      "image/png": "[encoded data removed]",
      "text/plain": [
       "<Figure size 432x288 with 2 Axes>"
      ]
     },
     "metadata": {
      "needs_background": "light"
     },
     "output_type": "display_data"
    }
   ],
   "source": [
    "# Cut the window in 2 parts\n",
    "f, (ax_box, ax_hist) = plt.subplots(2, sharex=True, gridspec_kw={\"height_ratios\": (.15, .85)})\n",
    " \n",
    "# Add a graph in each part\n",
    "sns.boxplot(data[\"inventory_qty\"], ax=ax_box)\n",
    "sns.distplot(data[\"inventory_qty\"], ax=ax_hist)\n",
    " \n",
    "# Remove x axis name for the boxplot\n",
    "ax_box.set(xlabel='')"
   ]
  },
  {
   "cell_type": "markdown",
   "metadata": {},
   "source": [
    "図で明らかなように、一つだけ数値が突出しているデータがある。以下では、このデータ（外れ値）を取り除き、再度プロットしてみる。"
   ]
  },
  {
   "cell_type": "code",
   "execution_count": 6,
   "metadata": {},
   "outputs": [],
   "source": [
    "data = data[data[\"inventory_qty\"] <= 1500]"
   ]
  },
  {
   "cell_type": "code",
   "execution_count": 7,
   "metadata": {},
   "outputs": [
    {
     "data": {
      "text/plain": [
       "[Text(0.5, 0, '')]"
      ]
     },
     "execution_count": 7,
     "metadata": {},
     "output_type": "execute_result"
    },
    {
     "data": {
      "image/png": "[encoded data removed]",
      "text/plain": [
       "<Figure size 432x288 with 2 Axes>"
      ]
     },
     "metadata": {
      "needs_background": "light"
     },
     "output_type": "display_data"
    }
   ],
   "source": [
    "# Cut the window in 2 parts\n",
    "f, (ax_box, ax_hist) = plt.subplots(2, sharex=True, gridspec_kw={\"height_ratios\": (.15, .85)})\n",
    " \n",
    "# Add a graph in each part\n",
    "sns.boxplot(data[\"inventory_qty\"], ax=ax_box)\n",
    "sns.distplot(data[\"inventory_qty\"], ax=ax_hist)\n",
    " \n",
    "# Remove x axis name for the boxplot\n",
    "ax_box.set(xlabel='')"
   ]
  },
  {
   "cell_type": "markdown",
   "metadata": {},
   "source": [
    "外れ値のあるデータを取り除くことができたのがわかる。"
   ]
  },
  {
   "cell_type": "markdown",
   "metadata": {},
   "source": [
    "### 2. Color"
   ]
  },
  {
   "cell_type": "markdown",
   "metadata": {},
   "source": [
    "色は文字列であり、色による優位性は※今回ないため、明らかにカテゴリカルデータである。<br>\n",
    "※色の明るさによって目的変数が変わりそうであれば、これを数値に変換することも可能である。"
   ]
  },
  {
   "cell_type": "markdown",
   "metadata": {},
   "source": [
    "文字列データは分析がしづらいため、数値に加工する必要がある。<br>\n",
    "blue = 0, red = 1, grey = 2のように番号を採番しても良いが、これをbooleanの変数の集合体であると見なす方がいい。<br>\n",
    "というのも、この数値に意味がないからだ。<br>\n",
    "つまり、この`Color`という一つのカラムから、blueか否か、redか否か、greyか否かというようなbooleanな複数カラムに加工するということ。<br>\n",
    "これを<b>ダミー変数変換</b>という。"
   ]
  },
  {
   "cell_type": "code",
   "execution_count": 8,
   "metadata": {},
   "outputs": [],
   "source": [
    "data_color = pd.get_dummies(data['Color'])"
   ]
  },
  {
   "cell_type": "code",
   "execution_count": 9,
   "metadata": {},
   "outputs": [],
   "source": [
    "data = pd.concat([data, data_color], axis=1)"
   ]
  },
  {
   "cell_type": "code",
   "execution_count": 10,
   "metadata": {},
   "outputs": [
    {
     "data": {
      "text/html": [
       "<div>\n",
       "<style scoped>\n",
       "    .dataframe tbody tr th:only-of-type {\n",
       "        vertical-align: middle;\n",
       "    }\n",
       "\n",
       "    .dataframe tbody tr th {\n",
       "        vertical-align: top;\n",
       "    }\n",
       "\n",
       "    .dataframe thead th {\n",
       "        text-align: right;\n",
       "    }\n",
       "</style>\n",
       "<table border=\"1\" class=\"dataframe\">\n",
       "  <thead>\n",
       "    <tr style=\"text-align: right;\">\n",
       "      <th></th>\n",
       "      <th>inventory_qty</th>\n",
       "      <th>Color</th>\n",
       "      <th>Size</th>\n",
       "      <th>Price</th>\n",
       "      <th>Brand</th>\n",
       "      <th>P/L</th>\n",
       "      <th>blue</th>\n",
       "      <th>grey</th>\n",
       "      <th>red</th>\n",
       "      <th>yellow</th>\n",
       "    </tr>\n",
       "  </thead>\n",
       "  <tbody>\n",
       "    <tr>\n",
       "      <th>0</th>\n",
       "      <td>15</td>\n",
       "      <td>blue</td>\n",
       "      <td>S</td>\n",
       "      <td>41.0</td>\n",
       "      <td>Adidas</td>\n",
       "      <td>P</td>\n",
       "      <td>1</td>\n",
       "      <td>0</td>\n",
       "      <td>0</td>\n",
       "      <td>0</td>\n",
       "    </tr>\n",
       "    <tr>\n",
       "      <th>1</th>\n",
       "      <td>13</td>\n",
       "      <td>red</td>\n",
       "      <td>S</td>\n",
       "      <td>74.0</td>\n",
       "      <td>Puma</td>\n",
       "      <td>P</td>\n",
       "      <td>0</td>\n",
       "      <td>0</td>\n",
       "      <td>1</td>\n",
       "      <td>0</td>\n",
       "    </tr>\n",
       "    <tr>\n",
       "      <th>2</th>\n",
       "      <td>12</td>\n",
       "      <td>grey</td>\n",
       "      <td>S</td>\n",
       "      <td>896.0</td>\n",
       "      <td>Puma</td>\n",
       "      <td>P</td>\n",
       "      <td>0</td>\n",
       "      <td>1</td>\n",
       "      <td>0</td>\n",
       "      <td>0</td>\n",
       "    </tr>\n",
       "    <tr>\n",
       "      <th>3</th>\n",
       "      <td>14</td>\n",
       "      <td>red</td>\n",
       "      <td>M</td>\n",
       "      <td>556.0</td>\n",
       "      <td>Puma</td>\n",
       "      <td>L</td>\n",
       "      <td>0</td>\n",
       "      <td>0</td>\n",
       "      <td>1</td>\n",
       "      <td>0</td>\n",
       "    </tr>\n",
       "    <tr>\n",
       "      <th>4</th>\n",
       "      <td>14</td>\n",
       "      <td>grey</td>\n",
       "      <td>M</td>\n",
       "      <td>755.0</td>\n",
       "      <td>Puma</td>\n",
       "      <td>P</td>\n",
       "      <td>0</td>\n",
       "      <td>1</td>\n",
       "      <td>0</td>\n",
       "      <td>0</td>\n",
       "    </tr>\n",
       "  </tbody>\n",
       "</table>\n",
       "</div>"
      ],
      "text/plain": [
       "   inventory_qty Color Size  Price   Brand P/L  blue  grey  red  yellow\n",
       "0             15  blue    S   41.0  Adidas   P     1     0    0       0\n",
       "1             13   red    S   74.0    Puma   P     0     0    1       0\n",
       "2             12  grey    S  896.0    Puma   P     0     1    0       0\n",
       "3             14   red    M  556.0    Puma   L     0     0    1       0\n",
       "4             14  grey    M  755.0    Puma   P     0     1    0       0"
      ]
     },
     "execution_count": 10,
     "metadata": {},
     "output_type": "execute_result"
    }
   ],
   "source": [
    "data.head()"
   ]
  },
  {
   "cell_type": "markdown",
   "metadata": {},
   "source": [
    "カテゴリカルデータであった`Color`という一カラムを、離散的数値の複数カラムに変換した。<br>\n",
    "ちなみに、元のカラムは機械学習の直前まで使用するかもしれないので、残しておく。"
   ]
  },
  {
   "cell_type": "markdown",
   "metadata": {},
   "source": [
    "### 3. Size "
   ]
  },
  {
   "cell_type": "markdown",
   "metadata": {},
   "source": [
    "サイズはS,M,L,XLのような文字列で表される。大きさを示しているので、数値に変換し、離散的数値として扱う場合が多い。<br>\n",
    "見方によってはこれを大きさではなく、あくまでカテゴリとして扱うこともできる。<br>\n",
    "その場合、`Color`のようにbooleanの変数の集合体でもいいと思う。<br>\n",
    "今回は、離散的数値として扱うために数値変換を行う。"
   ]
  },
  {
   "cell_type": "code",
   "execution_count": 11,
   "metadata": {},
   "outputs": [],
   "source": [
    "data_size = data['Size'].drop_duplicates().reset_index()\n",
    "data_size['size_num'] = [1,2,3,4]"
   ]
  },
  {
   "cell_type": "code",
   "execution_count": 12,
   "metadata": {},
   "outputs": [
    {
     "data": {
      "text/html": [
       "<div>\n",
       "<style scoped>\n",
       "    .dataframe tbody tr th:only-of-type {\n",
       "        vertical-align: middle;\n",
       "    }\n",
       "\n",
       "    .dataframe tbody tr th {\n",
       "        vertical-align: top;\n",
       "    }\n",
       "\n",
       "    .dataframe thead th {\n",
       "        text-align: right;\n",
       "    }\n",
       "</style>\n",
       "<table border=\"1\" class=\"dataframe\">\n",
       "  <thead>\n",
       "    <tr style=\"text-align: right;\">\n",
       "      <th></th>\n",
       "      <th>inventory_qty</th>\n",
       "      <th>Color</th>\n",
       "      <th>Size</th>\n",
       "      <th>Price</th>\n",
       "      <th>Brand</th>\n",
       "      <th>P/L</th>\n",
       "      <th>blue</th>\n",
       "      <th>grey</th>\n",
       "      <th>red</th>\n",
       "      <th>yellow</th>\n",
       "      <th>size_num</th>\n",
       "    </tr>\n",
       "  </thead>\n",
       "  <tbody>\n",
       "    <tr>\n",
       "      <th>0</th>\n",
       "      <td>15</td>\n",
       "      <td>blue</td>\n",
       "      <td>S</td>\n",
       "      <td>41.0</td>\n",
       "      <td>Adidas</td>\n",
       "      <td>P</td>\n",
       "      <td>1</td>\n",
       "      <td>0</td>\n",
       "      <td>0</td>\n",
       "      <td>0</td>\n",
       "      <td>1</td>\n",
       "    </tr>\n",
       "    <tr>\n",
       "      <th>1</th>\n",
       "      <td>13</td>\n",
       "      <td>red</td>\n",
       "      <td>S</td>\n",
       "      <td>74.0</td>\n",
       "      <td>Puma</td>\n",
       "      <td>P</td>\n",
       "      <td>0</td>\n",
       "      <td>0</td>\n",
       "      <td>1</td>\n",
       "      <td>0</td>\n",
       "      <td>1</td>\n",
       "    </tr>\n",
       "    <tr>\n",
       "      <th>2</th>\n",
       "      <td>12</td>\n",
       "      <td>grey</td>\n",
       "      <td>S</td>\n",
       "      <td>896.0</td>\n",
       "      <td>Puma</td>\n",
       "      <td>P</td>\n",
       "      <td>0</td>\n",
       "      <td>1</td>\n",
       "      <td>0</td>\n",
       "      <td>0</td>\n",
       "      <td>1</td>\n",
       "    </tr>\n",
       "    <tr>\n",
       "      <th>3</th>\n",
       "      <td>14</td>\n",
       "      <td>red</td>\n",
       "      <td>M</td>\n",
       "      <td>556.0</td>\n",
       "      <td>Puma</td>\n",
       "      <td>L</td>\n",
       "      <td>0</td>\n",
       "      <td>0</td>\n",
       "      <td>1</td>\n",
       "      <td>0</td>\n",
       "      <td>2</td>\n",
       "    </tr>\n",
       "    <tr>\n",
       "      <th>4</th>\n",
       "      <td>14</td>\n",
       "      <td>grey</td>\n",
       "      <td>M</td>\n",
       "      <td>755.0</td>\n",
       "      <td>Puma</td>\n",
       "      <td>P</td>\n",
       "      <td>0</td>\n",
       "      <td>1</td>\n",
       "      <td>0</td>\n",
       "      <td>0</td>\n",
       "      <td>2</td>\n",
       "    </tr>\n",
       "  </tbody>\n",
       "</table>\n",
       "</div>"
      ],
      "text/plain": [
       "   inventory_qty Color Size  Price   Brand P/L  blue  grey  red  yellow  \\\n",
       "0             15  blue    S   41.0  Adidas   P     1     0    0       0   \n",
       "1             13   red    S   74.0    Puma   P     0     0    1       0   \n",
       "2             12  grey    S  896.0    Puma   P     0     1    0       0   \n",
       "3             14   red    M  556.0    Puma   L     0     0    1       0   \n",
       "4             14  grey    M  755.0    Puma   P     0     1    0       0   \n",
       "\n",
       "   size_num  \n",
       "0         1  \n",
       "1         1  \n",
       "2         1  \n",
       "3         2  \n",
       "4         2  "
      ]
     },
     "execution_count": 12,
     "metadata": {},
     "output_type": "execute_result"
    }
   ],
   "source": [
    "#Left Joinする\n",
    "data = pd.merge(left=data,right=data_size, how='left', left_on='Size', right_on='Size')\n",
    "data = data.drop(columns=['index'])\n",
    "data.head()"
   ]
  },
  {
   "cell_type": "markdown",
   "metadata": {},
   "source": [
    "### 4. Price"
   ]
  },
  {
   "cell_type": "markdown",
   "metadata": {},
   "source": [
    "Priceは離散的数値の場合もあるし連続的数値にも取れる。<br>\n",
    "というのも店によっては小数点単位で値段設定しているので。<br>\n",
    "既に欠損値があることがわかっているので、まずは欠損値を処理する。<br>\n",
    "※欠損値を処理しないと、plotを作成する際にエラーになることがあるので、優先すること。"
   ]
  },
  {
   "cell_type": "markdown",
   "metadata": {},
   "source": [
    "#### 欠損値処理"
   ]
  },
  {
   "cell_type": "markdown",
   "metadata": {},
   "source": [
    "特徴量エンジニアリング（Feature engineering）を学習すると、欠損値処理の作法を学べる。<br>\n",
    "今は、あまり深入りするとややこしいので簡単な欠損値処理を紹介する。<br>\n",
    "と言ってもとてもシンプルで、平均値を欠損箇所に埋めるだけ。<br>\n",
    "\n",
    "平均値は、`median`、`mode`, `mean`のどれかだが、今回は独断で`median`を使用する。"
   ]
  },
  {
   "cell_type": "code",
   "execution_count": 13,
   "metadata": {},
   "outputs": [
    {
     "data": {
      "text/plain": [
       "420.0"
      ]
     },
     "execution_count": 13,
     "metadata": {},
     "output_type": "execute_result"
    }
   ],
   "source": [
    "median_price = np.median(data['Price'].dropna())\n",
    "median_price"
   ]
  },
  {
   "cell_type": "code",
   "execution_count": 14,
   "metadata": {},
   "outputs": [
    {
     "data": {
      "text/html": [
       "<div>\n",
       "<style scoped>\n",
       "    .dataframe tbody tr th:only-of-type {\n",
       "        vertical-align: middle;\n",
       "    }\n",
       "\n",
       "    .dataframe tbody tr th {\n",
       "        vertical-align: top;\n",
       "    }\n",
       "\n",
       "    .dataframe thead th {\n",
       "        text-align: right;\n",
       "    }\n",
       "</style>\n",
       "<table border=\"1\" class=\"dataframe\">\n",
       "  <thead>\n",
       "    <tr style=\"text-align: right;\">\n",
       "      <th></th>\n",
       "      <th>inventory_qty</th>\n",
       "      <th>Color</th>\n",
       "      <th>Size</th>\n",
       "      <th>Price</th>\n",
       "      <th>Brand</th>\n",
       "      <th>P/L</th>\n",
       "      <th>blue</th>\n",
       "      <th>grey</th>\n",
       "      <th>red</th>\n",
       "      <th>yellow</th>\n",
       "      <th>size_num</th>\n",
       "      <th>price_adj</th>\n",
       "    </tr>\n",
       "  </thead>\n",
       "  <tbody>\n",
       "    <tr>\n",
       "      <th>0</th>\n",
       "      <td>15</td>\n",
       "      <td>blue</td>\n",
       "      <td>S</td>\n",
       "      <td>41.0</td>\n",
       "      <td>Adidas</td>\n",
       "      <td>P</td>\n",
       "      <td>1</td>\n",
       "      <td>0</td>\n",
       "      <td>0</td>\n",
       "      <td>0</td>\n",
       "      <td>1</td>\n",
       "      <td>41.0</td>\n",
       "    </tr>\n",
       "    <tr>\n",
       "      <th>1</th>\n",
       "      <td>13</td>\n",
       "      <td>red</td>\n",
       "      <td>S</td>\n",
       "      <td>74.0</td>\n",
       "      <td>Puma</td>\n",
       "      <td>P</td>\n",
       "      <td>0</td>\n",
       "      <td>0</td>\n",
       "      <td>1</td>\n",
       "      <td>0</td>\n",
       "      <td>1</td>\n",
       "      <td>74.0</td>\n",
       "    </tr>\n",
       "    <tr>\n",
       "      <th>2</th>\n",
       "      <td>12</td>\n",
       "      <td>grey</td>\n",
       "      <td>S</td>\n",
       "      <td>896.0</td>\n",
       "      <td>Puma</td>\n",
       "      <td>P</td>\n",
       "      <td>0</td>\n",
       "      <td>1</td>\n",
       "      <td>0</td>\n",
       "      <td>0</td>\n",
       "      <td>1</td>\n",
       "      <td>896.0</td>\n",
       "    </tr>\n",
       "    <tr>\n",
       "      <th>3</th>\n",
       "      <td>14</td>\n",
       "      <td>red</td>\n",
       "      <td>M</td>\n",
       "      <td>556.0</td>\n",
       "      <td>Puma</td>\n",
       "      <td>L</td>\n",
       "      <td>0</td>\n",
       "      <td>0</td>\n",
       "      <td>1</td>\n",
       "      <td>0</td>\n",
       "      <td>2</td>\n",
       "      <td>556.0</td>\n",
       "    </tr>\n",
       "    <tr>\n",
       "      <th>4</th>\n",
       "      <td>14</td>\n",
       "      <td>grey</td>\n",
       "      <td>M</td>\n",
       "      <td>755.0</td>\n",
       "      <td>Puma</td>\n",
       "      <td>P</td>\n",
       "      <td>0</td>\n",
       "      <td>1</td>\n",
       "      <td>0</td>\n",
       "      <td>0</td>\n",
       "      <td>2</td>\n",
       "      <td>755.0</td>\n",
       "    </tr>\n",
       "  </tbody>\n",
       "</table>\n",
       "</div>"
      ],
      "text/plain": [
       "   inventory_qty Color Size  Price   Brand P/L  blue  grey  red  yellow  \\\n",
       "0             15  blue    S   41.0  Adidas   P     1     0    0       0   \n",
       "1             13   red    S   74.0    Puma   P     0     0    1       0   \n",
       "2             12  grey    S  896.0    Puma   P     0     1    0       0   \n",
       "3             14   red    M  556.0    Puma   L     0     0    1       0   \n",
       "4             14  grey    M  755.0    Puma   P     0     1    0       0   \n",
       "\n",
       "   size_num  price_adj  \n",
       "0         1       41.0  \n",
       "1         1       74.0  \n",
       "2         1      896.0  \n",
       "3         2      556.0  \n",
       "4         2      755.0  "
      ]
     },
     "execution_count": 14,
     "metadata": {},
     "output_type": "execute_result"
    }
   ],
   "source": [
    "data['price_adj'] = data['Price'].fillna(median_price)\n",
    "data.head()"
   ]
  },
  {
   "cell_type": "markdown",
   "metadata": {},
   "source": [
    "箱ひげ図（Box Plot）と正規図（Distribution Plot）を描写し、外れ値がないか確認する。"
   ]
  },
  {
   "cell_type": "code",
   "execution_count": 15,
   "metadata": {
    "scrolled": true
   },
   "outputs": [
    {
     "data": {
      "text/plain": [
       "[Text(0.5, 0, '')]"
      ]
     },
     "execution_count": 15,
     "metadata": {},
     "output_type": "execute_result"
    },
    {
     "data": {
      "image/png": "[encoded data removed]",
      "text/plain": [
       "<Figure size 432x288 with 2 Axes>"
      ]
     },
     "metadata": {
      "needs_background": "light"
     },
     "output_type": "display_data"
    }
   ],
   "source": [
    "# Cut the window in 2 parts\n",
    "f, (ax_box, ax_hist) = plt.subplots(2, sharex=True, gridspec_kw={\"height_ratios\": (.15, .85)})\n",
    " \n",
    "# Add a graph in each part\n",
    "sns.boxplot(data[\"price_adj\"], ax=ax_box)\n",
    "sns.distplot(data[\"price_adj\"], ax=ax_hist)\n",
    " \n",
    "# Remove x axis name for the boxplot\n",
    "ax_box.set(xlabel='')"
   ]
  },
  {
   "cell_type": "markdown",
   "metadata": {},
   "source": [
    "外れ値がないことがわかる。"
   ]
  },
  {
   "cell_type": "markdown",
   "metadata": {},
   "source": [
    "### 5. Brand"
   ]
  },
  {
   "cell_type": "markdown",
   "metadata": {},
   "source": [
    "カテゴリカルデータと見なす（それ以外は考えづらい）ので、Colorと同じく、ダミー変数変換を行う。"
   ]
  },
  {
   "cell_type": "code",
   "execution_count": 16,
   "metadata": {},
   "outputs": [
    {
     "data": {
      "text/html": [
       "<div>\n",
       "<style scoped>\n",
       "    .dataframe tbody tr th:only-of-type {\n",
       "        vertical-align: middle;\n",
       "    }\n",
       "\n",
       "    .dataframe tbody tr th {\n",
       "        vertical-align: top;\n",
       "    }\n",
       "\n",
       "    .dataframe thead th {\n",
       "        text-align: right;\n",
       "    }\n",
       "</style>\n",
       "<table border=\"1\" class=\"dataframe\">\n",
       "  <thead>\n",
       "    <tr style=\"text-align: right;\">\n",
       "      <th></th>\n",
       "      <th>inventory_qty</th>\n",
       "      <th>Color</th>\n",
       "      <th>Size</th>\n",
       "      <th>Price</th>\n",
       "      <th>Brand</th>\n",
       "      <th>P/L</th>\n",
       "      <th>blue</th>\n",
       "      <th>grey</th>\n",
       "      <th>red</th>\n",
       "      <th>yellow</th>\n",
       "      <th>size_num</th>\n",
       "      <th>price_adj</th>\n",
       "      <th>Adidas</th>\n",
       "      <th>Champion</th>\n",
       "      <th>Puma</th>\n",
       "    </tr>\n",
       "  </thead>\n",
       "  <tbody>\n",
       "    <tr>\n",
       "      <th>0</th>\n",
       "      <td>15</td>\n",
       "      <td>blue</td>\n",
       "      <td>S</td>\n",
       "      <td>41.0</td>\n",
       "      <td>Adidas</td>\n",
       "      <td>P</td>\n",
       "      <td>1</td>\n",
       "      <td>0</td>\n",
       "      <td>0</td>\n",
       "      <td>0</td>\n",
       "      <td>1</td>\n",
       "      <td>41.0</td>\n",
       "      <td>1</td>\n",
       "      <td>0</td>\n",
       "      <td>0</td>\n",
       "    </tr>\n",
       "    <tr>\n",
       "      <th>1</th>\n",
       "      <td>13</td>\n",
       "      <td>red</td>\n",
       "      <td>S</td>\n",
       "      <td>74.0</td>\n",
       "      <td>Puma</td>\n",
       "      <td>P</td>\n",
       "      <td>0</td>\n",
       "      <td>0</td>\n",
       "      <td>1</td>\n",
       "      <td>0</td>\n",
       "      <td>1</td>\n",
       "      <td>74.0</td>\n",
       "      <td>0</td>\n",
       "      <td>0</td>\n",
       "      <td>1</td>\n",
       "    </tr>\n",
       "    <tr>\n",
       "      <th>2</th>\n",
       "      <td>12</td>\n",
       "      <td>grey</td>\n",
       "      <td>S</td>\n",
       "      <td>896.0</td>\n",
       "      <td>Puma</td>\n",
       "      <td>P</td>\n",
       "      <td>0</td>\n",
       "      <td>1</td>\n",
       "      <td>0</td>\n",
       "      <td>0</td>\n",
       "      <td>1</td>\n",
       "      <td>896.0</td>\n",
       "      <td>0</td>\n",
       "      <td>0</td>\n",
       "      <td>1</td>\n",
       "    </tr>\n",
       "    <tr>\n",
       "      <th>3</th>\n",
       "      <td>14</td>\n",
       "      <td>red</td>\n",
       "      <td>M</td>\n",
       "      <td>556.0</td>\n",
       "      <td>Puma</td>\n",
       "      <td>L</td>\n",
       "      <td>0</td>\n",
       "      <td>0</td>\n",
       "      <td>1</td>\n",
       "      <td>0</td>\n",
       "      <td>2</td>\n",
       "      <td>556.0</td>\n",
       "      <td>0</td>\n",
       "      <td>0</td>\n",
       "      <td>1</td>\n",
       "    </tr>\n",
       "    <tr>\n",
       "      <th>4</th>\n",
       "      <td>14</td>\n",
       "      <td>grey</td>\n",
       "      <td>M</td>\n",
       "      <td>755.0</td>\n",
       "      <td>Puma</td>\n",
       "      <td>P</td>\n",
       "      <td>0</td>\n",
       "      <td>1</td>\n",
       "      <td>0</td>\n",
       "      <td>0</td>\n",
       "      <td>2</td>\n",
       "      <td>755.0</td>\n",
       "      <td>0</td>\n",
       "      <td>0</td>\n",
       "      <td>1</td>\n",
       "    </tr>\n",
       "  </tbody>\n",
       "</table>\n",
       "</div>"
      ],
      "text/plain": [
       "   inventory_qty Color Size  Price   Brand P/L  blue  grey  red  yellow  \\\n",
       "0             15  blue    S   41.0  Adidas   P     1     0    0       0   \n",
       "1             13   red    S   74.0    Puma   P     0     0    1       0   \n",
       "2             12  grey    S  896.0    Puma   P     0     1    0       0   \n",
       "3             14   red    M  556.0    Puma   L     0     0    1       0   \n",
       "4             14  grey    M  755.0    Puma   P     0     1    0       0   \n",
       "\n",
       "   size_num  price_adj  Adidas  Champion  Puma  \n",
       "0         1       41.0       1         0     0  \n",
       "1         1       74.0       0         0     1  \n",
       "2         1      896.0       0         0     1  \n",
       "3         2      556.0       0         0     1  \n",
       "4         2      755.0       0         0     1  "
      ]
     },
     "execution_count": 16,
     "metadata": {},
     "output_type": "execute_result"
    }
   ],
   "source": [
    "data_brand = pd.get_dummies(data['Brand'])\n",
    "data = pd.concat([data, data_brand], axis=1)\n",
    "data.head()"
   ]
  },
  {
   "cell_type": "markdown",
   "metadata": {},
   "source": [
    "### 6. P/L"
   ]
  },
  {
   "cell_type": "markdown",
   "metadata": {},
   "source": [
    "最後に、目的変数である`P/L`を0,1に変換する。"
   ]
  },
  {
   "cell_type": "code",
   "execution_count": 17,
   "metadata": {},
   "outputs": [
    {
     "data": {
      "text/html": [
       "<div>\n",
       "<style scoped>\n",
       "    .dataframe tbody tr th:only-of-type {\n",
       "        vertical-align: middle;\n",
       "    }\n",
       "\n",
       "    .dataframe tbody tr th {\n",
       "        vertical-align: top;\n",
       "    }\n",
       "\n",
       "    .dataframe thead th {\n",
       "        text-align: right;\n",
       "    }\n",
       "</style>\n",
       "<table border=\"1\" class=\"dataframe\">\n",
       "  <thead>\n",
       "    <tr style=\"text-align: right;\">\n",
       "      <th></th>\n",
       "      <th>inventory_qty</th>\n",
       "      <th>Color</th>\n",
       "      <th>Size</th>\n",
       "      <th>Price</th>\n",
       "      <th>Brand</th>\n",
       "      <th>P/L</th>\n",
       "      <th>blue</th>\n",
       "      <th>grey</th>\n",
       "      <th>red</th>\n",
       "      <th>yellow</th>\n",
       "      <th>size_num</th>\n",
       "      <th>price_adj</th>\n",
       "      <th>Adidas</th>\n",
       "      <th>Champion</th>\n",
       "      <th>Puma</th>\n",
       "    </tr>\n",
       "  </thead>\n",
       "  <tbody>\n",
       "    <tr>\n",
       "      <th>0</th>\n",
       "      <td>15</td>\n",
       "      <td>blue</td>\n",
       "      <td>S</td>\n",
       "      <td>41.0</td>\n",
       "      <td>Adidas</td>\n",
       "      <td>1</td>\n",
       "      <td>1</td>\n",
       "      <td>0</td>\n",
       "      <td>0</td>\n",
       "      <td>0</td>\n",
       "      <td>1</td>\n",
       "      <td>41.0</td>\n",
       "      <td>1</td>\n",
       "      <td>0</td>\n",
       "      <td>0</td>\n",
       "    </tr>\n",
       "    <tr>\n",
       "      <th>1</th>\n",
       "      <td>13</td>\n",
       "      <td>red</td>\n",
       "      <td>S</td>\n",
       "      <td>74.0</td>\n",
       "      <td>Puma</td>\n",
       "      <td>1</td>\n",
       "      <td>0</td>\n",
       "      <td>0</td>\n",
       "      <td>1</td>\n",
       "      <td>0</td>\n",
       "      <td>1</td>\n",
       "      <td>74.0</td>\n",
       "      <td>0</td>\n",
       "      <td>0</td>\n",
       "      <td>1</td>\n",
       "    </tr>\n",
       "    <tr>\n",
       "      <th>2</th>\n",
       "      <td>12</td>\n",
       "      <td>grey</td>\n",
       "      <td>S</td>\n",
       "      <td>896.0</td>\n",
       "      <td>Puma</td>\n",
       "      <td>1</td>\n",
       "      <td>0</td>\n",
       "      <td>1</td>\n",
       "      <td>0</td>\n",
       "      <td>0</td>\n",
       "      <td>1</td>\n",
       "      <td>896.0</td>\n",
       "      <td>0</td>\n",
       "      <td>0</td>\n",
       "      <td>1</td>\n",
       "    </tr>\n",
       "    <tr>\n",
       "      <th>3</th>\n",
       "      <td>14</td>\n",
       "      <td>red</td>\n",
       "      <td>M</td>\n",
       "      <td>556.0</td>\n",
       "      <td>Puma</td>\n",
       "      <td>0</td>\n",
       "      <td>0</td>\n",
       "      <td>0</td>\n",
       "      <td>1</td>\n",
       "      <td>0</td>\n",
       "      <td>2</td>\n",
       "      <td>556.0</td>\n",
       "      <td>0</td>\n",
       "      <td>0</td>\n",
       "      <td>1</td>\n",
       "    </tr>\n",
       "    <tr>\n",
       "      <th>4</th>\n",
       "      <td>14</td>\n",
       "      <td>grey</td>\n",
       "      <td>M</td>\n",
       "      <td>755.0</td>\n",
       "      <td>Puma</td>\n",
       "      <td>1</td>\n",
       "      <td>0</td>\n",
       "      <td>1</td>\n",
       "      <td>0</td>\n",
       "      <td>0</td>\n",
       "      <td>2</td>\n",
       "      <td>755.0</td>\n",
       "      <td>0</td>\n",
       "      <td>0</td>\n",
       "      <td>1</td>\n",
       "    </tr>\n",
       "  </tbody>\n",
       "</table>\n",
       "</div>"
      ],
      "text/plain": [
       "   inventory_qty Color Size  Price   Brand  P/L  blue  grey  red  yellow  \\\n",
       "0             15  blue    S   41.0  Adidas    1     1     0    0       0   \n",
       "1             13   red    S   74.0    Puma    1     0     0    1       0   \n",
       "2             12  grey    S  896.0    Puma    1     0     1    0       0   \n",
       "3             14   red    M  556.0    Puma    0     0     0    1       0   \n",
       "4             14  grey    M  755.0    Puma    1     0     1    0       0   \n",
       "\n",
       "   size_num  price_adj  Adidas  Champion  Puma  \n",
       "0         1       41.0       1         0     0  \n",
       "1         1       74.0       0         0     1  \n",
       "2         1      896.0       0         0     1  \n",
       "3         2      556.0       0         0     1  \n",
       "4         2      755.0       0         0     1  "
      ]
     },
     "execution_count": 17,
     "metadata": {},
     "output_type": "execute_result"
    }
   ],
   "source": [
    "data['P/L'] = data['P/L'].replace('L', 0)\n",
    "data['P/L'] = data['P/L'].replace('P', 1)\n",
    "data.head()"
   ]
  },
  {
   "cell_type": "markdown",
   "metadata": {},
   "source": [
    "## Step2. データを包括的に見る"
   ]
  },
  {
   "cell_type": "markdown",
   "metadata": {},
   "source": [
    "Step1でデータがある程度綺麗になった、つまり、見やすくもなった。<br>\n",
    "なので、今度はデータにどんな傾向があるのかを見る。<br>\n",
    "もっとも代表的なものとして、\n",
    "1. pandas.dataframeの<b>describe()</b><br>\n",
    "2. seabornが提供する<b>heatmap</b>\n",
    "\n",
    "などが挙げられる。<br>\n",
    "実際に以下で使用する。<br>"
   ]
  },
  {
   "cell_type": "code",
   "execution_count": 18,
   "metadata": {},
   "outputs": [
    {
     "data": {
      "text/html": [
       "<div>\n",
       "<style scoped>\n",
       "    .dataframe tbody tr th:only-of-type {\n",
       "        vertical-align: middle;\n",
       "    }\n",
       "\n",
       "    .dataframe tbody tr th {\n",
       "        vertical-align: top;\n",
       "    }\n",
       "\n",
       "    .dataframe thead th {\n",
       "        text-align: right;\n",
       "    }\n",
       "</style>\n",
       "<table border=\"1\" class=\"dataframe\">\n",
       "  <thead>\n",
       "    <tr style=\"text-align: right;\">\n",
       "      <th></th>\n",
       "      <th>inventory_qty</th>\n",
       "      <th>Price</th>\n",
       "      <th>P/L</th>\n",
       "      <th>blue</th>\n",
       "      <th>grey</th>\n",
       "      <th>red</th>\n",
       "      <th>yellow</th>\n",
       "      <th>size_num</th>\n",
       "      <th>price_adj</th>\n",
       "      <th>Adidas</th>\n",
       "      <th>Champion</th>\n",
       "      <th>Puma</th>\n",
       "    </tr>\n",
       "  </thead>\n",
       "  <tbody>\n",
       "    <tr>\n",
       "      <th>count</th>\n",
       "      <td>37.000000</td>\n",
       "      <td>31.000000</td>\n",
       "      <td>37.000000</td>\n",
       "      <td>37.000000</td>\n",
       "      <td>37.000000</td>\n",
       "      <td>37.000000</td>\n",
       "      <td>37.000000</td>\n",
       "      <td>37.000000</td>\n",
       "      <td>37.000000</td>\n",
       "      <td>37.000000</td>\n",
       "      <td>37.000000</td>\n",
       "      <td>37.000000</td>\n",
       "    </tr>\n",
       "    <tr>\n",
       "      <th>mean</th>\n",
       "      <td>15.270270</td>\n",
       "      <td>463.903226</td>\n",
       "      <td>0.729730</td>\n",
       "      <td>0.216216</td>\n",
       "      <td>0.243243</td>\n",
       "      <td>0.459459</td>\n",
       "      <td>0.081081</td>\n",
       "      <td>2.594595</td>\n",
       "      <td>456.783784</td>\n",
       "      <td>0.324324</td>\n",
       "      <td>0.270270</td>\n",
       "      <td>0.405405</td>\n",
       "    </tr>\n",
       "    <tr>\n",
       "      <th>std</th>\n",
       "      <td>3.033596</td>\n",
       "      <td>285.494350</td>\n",
       "      <td>0.450225</td>\n",
       "      <td>0.417342</td>\n",
       "      <td>0.434959</td>\n",
       "      <td>0.505228</td>\n",
       "      <td>0.276725</td>\n",
       "      <td>1.039750</td>\n",
       "      <td>261.135356</td>\n",
       "      <td>0.474579</td>\n",
       "      <td>0.450225</td>\n",
       "      <td>0.497743</td>\n",
       "    </tr>\n",
       "    <tr>\n",
       "      <th>min</th>\n",
       "      <td>9.000000</td>\n",
       "      <td>41.000000</td>\n",
       "      <td>0.000000</td>\n",
       "      <td>0.000000</td>\n",
       "      <td>0.000000</td>\n",
       "      <td>0.000000</td>\n",
       "      <td>0.000000</td>\n",
       "      <td>1.000000</td>\n",
       "      <td>41.000000</td>\n",
       "      <td>0.000000</td>\n",
       "      <td>0.000000</td>\n",
       "      <td>0.000000</td>\n",
       "    </tr>\n",
       "    <tr>\n",
       "      <th>25%</th>\n",
       "      <td>13.000000</td>\n",
       "      <td>270.500000</td>\n",
       "      <td>0.000000</td>\n",
       "      <td>0.000000</td>\n",
       "      <td>0.000000</td>\n",
       "      <td>0.000000</td>\n",
       "      <td>0.000000</td>\n",
       "      <td>2.000000</td>\n",
       "      <td>292.000000</td>\n",
       "      <td>0.000000</td>\n",
       "      <td>0.000000</td>\n",
       "      <td>0.000000</td>\n",
       "    </tr>\n",
       "    <tr>\n",
       "      <th>50%</th>\n",
       "      <td>16.000000</td>\n",
       "      <td>420.000000</td>\n",
       "      <td>1.000000</td>\n",
       "      <td>0.000000</td>\n",
       "      <td>0.000000</td>\n",
       "      <td>0.000000</td>\n",
       "      <td>0.000000</td>\n",
       "      <td>3.000000</td>\n",
       "      <td>420.000000</td>\n",
       "      <td>0.000000</td>\n",
       "      <td>0.000000</td>\n",
       "      <td>0.000000</td>\n",
       "    </tr>\n",
       "    <tr>\n",
       "      <th>75%</th>\n",
       "      <td>17.000000</td>\n",
       "      <td>670.000000</td>\n",
       "      <td>1.000000</td>\n",
       "      <td>0.000000</td>\n",
       "      <td>0.000000</td>\n",
       "      <td>1.000000</td>\n",
       "      <td>0.000000</td>\n",
       "      <td>3.000000</td>\n",
       "      <td>665.000000</td>\n",
       "      <td>1.000000</td>\n",
       "      <td>1.000000</td>\n",
       "      <td>1.000000</td>\n",
       "    </tr>\n",
       "    <tr>\n",
       "      <th>max</th>\n",
       "      <td>21.000000</td>\n",
       "      <td>990.000000</td>\n",
       "      <td>1.000000</td>\n",
       "      <td>1.000000</td>\n",
       "      <td>1.000000</td>\n",
       "      <td>1.000000</td>\n",
       "      <td>1.000000</td>\n",
       "      <td>4.000000</td>\n",
       "      <td>990.000000</td>\n",
       "      <td>1.000000</td>\n",
       "      <td>1.000000</td>\n",
       "      <td>1.000000</td>\n",
       "    </tr>\n",
       "  </tbody>\n",
       "</table>\n",
       "</div>"
      ],
      "text/plain": [
       "       inventory_qty       Price        P/L       blue       grey        red  \\\n",
       "count      37.000000   31.000000  37.000000  37.000000  37.000000  37.000000   \n",
       "mean       15.270270  463.903226   0.729730   0.216216   0.243243   0.459459   \n",
       "std         3.033596  285.494350   0.450225   0.417342   0.434959   0.505228   \n",
       "min         9.000000   41.000000   0.000000   0.000000   0.000000   0.000000   \n",
       "25%        13.000000  270.500000   0.000000   0.000000   0.000000   0.000000   \n",
       "50%        16.000000  420.000000   1.000000   0.000000   0.000000   0.000000   \n",
       "75%        17.000000  670.000000   1.000000   0.000000   0.000000   1.000000   \n",
       "max        21.000000  990.000000   1.000000   1.000000   1.000000   1.000000   \n",
       "\n",
       "          yellow   size_num   price_adj     Adidas   Champion       Puma  \n",
       "count  37.000000  37.000000   37.000000  37.000000  37.000000  37.000000  \n",
       "mean    0.081081   2.594595  456.783784   0.324324   0.270270   0.405405  \n",
       "std     0.276725   1.039750  261.135356   0.474579   0.450225   0.497743  \n",
       "min     0.000000   1.000000   41.000000   0.000000   0.000000   0.000000  \n",
       "25%     0.000000   2.000000  292.000000   0.000000   0.000000   0.000000  \n",
       "50%     0.000000   3.000000  420.000000   0.000000   0.000000   0.000000  \n",
       "75%     0.000000   3.000000  665.000000   1.000000   1.000000   1.000000  \n",
       "max     1.000000   4.000000  990.000000   1.000000   1.000000   1.000000  "
      ]
     },
     "execution_count": 18,
     "metadata": {},
     "output_type": "execute_result"
    }
   ],
   "source": [
    "data.describe()"
   ]
  },
  {
   "cell_type": "markdown",
   "metadata": {},
   "source": [
    "これでなんとなく、ばらつきがあるか(std)、平均がどのくらいかがわかる。"
   ]
  },
  {
   "cell_type": "markdown",
   "metadata": {},
   "source": [
    "次にseabornが提供するheatmapを見てみる。欠損値や数値でないカラムがあるとエラーになるので、実行時には除いておく。"
   ]
  },
  {
   "cell_type": "code",
   "execution_count": 21,
   "metadata": {},
   "outputs": [
    {
     "data": {
      "text/plain": [
       "<matplotlib.axes._subplots.AxesSubplot at 0x1a1ce80240>"
      ]
     },
     "execution_count": 21,
     "metadata": {},
     "output_type": "execute_result"
    },
    {
     "data": {
      "image/png": "[encoded data removed]",
      "text/plain": [
       "<Figure size 432x288 with 2 Axes>"
      ]
     },
     "metadata": {
      "needs_background": "light"
     },
     "output_type": "display_data"
    }
   ],
   "source": [
    "data_heatmap = data.drop(columns=['Color','Size','Brand','Price'])\n",
    "sns.heatmap(data_heatmap,cmap=\"YlGnBu\")"
   ]
  },
  {
   "cell_type": "markdown",
   "metadata": {},
   "source": [
    "うん。見辛い。忘れたけど、数値を標準化しないと、顕著な数字が目立ってしまう。<br>\n",
    "今回は広く浅くなので、標準化はせず、顕著な`price_adj`を除く。"
   ]
  },
  {
   "cell_type": "code",
   "execution_count": 23,
   "metadata": {},
   "outputs": [
    {
     "data": {
      "text/plain": [
       "<matplotlib.axes._subplots.AxesSubplot at 0x1a1d40d860>"
      ]
     },
     "execution_count": 23,
     "metadata": {},
     "output_type": "execute_result"
    },
    {
     "data": {
      "image/png": "[encoded data removed]",
      "text/plain": [
       "<Figure size 432x288 with 2 Axes>"
      ]
     },
     "metadata": {
      "needs_background": "light"
     },
     "output_type": "display_data"
    }
   ],
   "source": [
    "data_heatmap = data.drop(columns=['Color','Size','Brand','Price','price_adj'])\n",
    "sns.heatmap(data_heatmap, cmap=\"YlGnBu\")"
   ]
  },
  {
   "cell_type": "markdown",
   "metadata": {},
   "source": [
    "目的変数でソートする。"
   ]
  },
  {
   "cell_type": "code",
   "execution_count": 24,
   "metadata": {},
   "outputs": [
    {
     "data": {
      "text/plain": [
       "<matplotlib.axes._subplots.AxesSubplot at 0x1a1d49f198>"
      ]
     },
     "execution_count": 24,
     "metadata": {},
     "output_type": "execute_result"
    },
    {
     "data": {
      "image/png": "[encoded data removed]",
      "text/plain": [
       "<Figure size 432x288 with 2 Axes>"
      ]
     },
     "metadata": {
      "needs_background": "light"
     },
     "output_type": "display_data"
    }
   ],
   "source": [
    "data_heatmap = data_heatmap.sort_values(by=['P/L'])\n",
    "sns.heatmap(data_heatmap, cmap=\"YlGnBu\")"
   ]
  },
  {
   "cell_type": "markdown",
   "metadata": {},
   "source": [
    "特に、顕著な特徴は見受けられなかった。<br>\n",
    "強いて言うなら、黄色の商品は必ず`Profit`なので、今後の分析で大きなFactorになりうる。"
   ]
  },
  {
   "cell_type": "code",
   "execution_count": null,
   "metadata": {},
   "outputs": [],
   "source": []
  },
  {
   "cell_type": "code",
   "execution_count": null,
   "metadata": {},
   "outputs": [],
   "source": []
  }
 ],
 "metadata": {
  "kernelspec": {
   "display_name": "Python 3",
   "language": "python",
   "name": "python3"
  },
  "language_info": {
   "codemirror_mode": {
    "name": "ipython",
    "version": 3
   },
   "file_extension": ".py",
   "mimetype": "text/x-python",
   "name": "python",
   "nbconvert_exporter": "python",
   "pygments_lexer": "ipython3",
   "version": "3.7.3"
  }
 },
 "nbformat": 4,
 "nbformat_minor": 2
}
